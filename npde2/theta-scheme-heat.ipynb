{
 "cells": [
  {
   "cell_type": "code",
   "execution_count": null,
   "metadata": {},
   "outputs": [],
   "source": [
    "from netgen import gui\n",
    "from math import pi\n",
    "from ngsolve import *\n",
    "from netgen.geom2d import SplineGeometry\n",
    "import numpy as np"
   ]
  },
  {
   "cell_type": "code",
   "execution_count": null,
   "metadata": {},
   "outputs": [],
   "source": [
    "def solve_problem(i, j, theta = 0.5):\n",
    "    geo = SplineGeometry()\n",
    "    geo.AddRectangle( (0, 0), (1, 1),\n",
    "                    bcs = (\"bottom\", \"right\", \"top\", \"left\"))\n",
    "    mesh = Mesh( geo.GenerateMesh(maxh=0.5**i))\n",
    "    Draw(mesh)\n",
    "    fes = H1(mesh, order=4, dirichlet=\"bottom|right|left|top\")\n",
    "\n",
    "    u,v = fes.TnT()\n",
    "\n",
    "    time = 0.0\n",
    "    dt = 0.5**j\n",
    "\n",
    "    s = BilinearForm(fes, symmetric=False)\n",
    "    s += grad(u)*grad(v)*dx\n",
    "    s.Assemble()\n",
    "\n",
    "    m = BilinearForm(fes, symmetric=False)\n",
    "    m += u*v*dx\n",
    "    m.Assemble()\n",
    "\n",
    "    mstar = m.mat.CreateMatrix()\n",
    "    mstar.AsVector().data = m.mat.AsVector() + (theta)* dt * s.mat.AsVector()\n",
    "    invmstar = mstar.Inverse(freedofs=fes.FreeDofs())\n",
    "    \n",
    "    t = Parameter(0.0)\n",
    "    fnow = LinearForm(fes)\n",
    "    fnow += sin(2*pi*x)*sin(2*pi*y)*(8*pi**2*cos(4*pi*t) - 4*pi*sin(4*pi*t))*v*dx\n",
    "    fnow.Assemble()\n",
    "    fnext = LinearForm(fes)\n",
    "    fnext += sin(2*pi*x)*sin(2*pi*y)*(8*pi**2*cos(4*pi*(t+dt)) - 4*pi*sin(4*pi*(t+dt)))*v*dx\n",
    "    fnext.Assemble()\n",
    "\n",
    "    #u = lambda t: sin(2*pi*x)*sin(2*pi*y)*exp(-8*pi**2*t)\n",
    "    u = lambda t: sin(2*pi*x)*sin(2*pi*y)*cos(4*pi*t)\n",
    "\n",
    "    gfu = GridFunction(fes)\n",
    "    gfu.Set(u(0.))\n",
    "    Draw(gfu,mesh,\"u\")\n",
    "\n",
    "    res = gfu.vec.CreateVector()\n",
    "    tstep = 1 # time that we want to step over within one block-run\n",
    "    \n",
    "    l2errormax = 0\n",
    "    t_intermediate=0 # time counter within one block-run\n",
    "    while t_intermediate < tstep - 0.5 * dt:\n",
    "        t.Set(t_intermediate)\n",
    "        fnow.Assemble()\n",
    "        fnext.Assemble()\n",
    "        res.data = (1-theta)*dt * fnow.vec + (theta)*dt*fnext.vec - dt * s.mat * gfu.vec\n",
    "        gfu.vec.data += invmstar * res\n",
    "        t_intermediate += dt\n",
    "        \n",
    "        l2error = sqrt( Integrate((gfu-u(t_intermediate))**2, mesh))\n",
    "        if l2error > l2errormax:\n",
    "            l2errormax = l2error\n",
    "        #print(\"t: \",time+t_intermediate,\"\\t\", \"error: \", l2error)\n",
    "        #Redraw(blocking=True)\n",
    "    return l2errormax"
   ]
  },
  {
   "cell_type": "code",
   "execution_count": null,
   "metadata": {},
   "outputs": [],
   "source": [
    "solve_problem(5,5)"
   ]
  },
  {
   "cell_type": "code",
   "execution_count": null,
   "metadata": {},
   "outputs": [],
   "source": [
    "N = 1\n",
    "M = 5\n",
    "errors = np.zeros((N,M))\n",
    "for i in range(N):\n",
    "    for j in range(M):\n",
    "        errors[i,j] = solve_problem(i+4,j+2, 0.500001)\n",
    "print(errors)"
   ]
  },
  {
   "cell_type": "code",
   "execution_count": null,
   "metadata": {},
   "outputs": [],
   "source": [
    "l2errors_dt_ref = errors[-1,:]\n",
    "eocs_dt = []\n",
    "for j in range(1,len(l2errors_dt_ref)):\n",
    "    eocs_dt.append(log(l2errors_dt_ref[j-1]/l2errors_dt_ref[j])/log(2))\n",
    "print(l2errors_dt_ref)\n",
    "print(eocs_dt)"
   ]
  },
  {
   "cell_type": "code",
   "execution_count": null,
   "metadata": {},
   "outputs": [],
   "source": [
    "import matplotlib.pyplot as plt\n",
    "fig, ax = plt.subplots()\n",
    "\n",
    "plt.yscale(\"log\")\n",
    "ax.plot(l2errors_dt_ref, label=\"data\")\n",
    "\n",
    "ax.plot([0.5**(i+4) for i in range(len(l2errors_dt_ref))], label=\"First order\")\n",
    "ax.plot([0.5**(2*i+5) for i in range(len(l2errors_dt_ref))], label=\"Second order\")\n",
    "\n",
    "plt.legend(loc='lower left')\n",
    "plt.show()"
   ]
  }
 ],
 "metadata": {
  "kernelspec": {
   "display_name": "Python 3",
   "language": "python",
   "name": "python3"
  },
  "language_info": {
   "codemirror_mode": {
    "name": "ipython",
    "version": 3
   },
   "file_extension": ".py",
   "mimetype": "text/x-python",
   "name": "python",
   "nbconvert_exporter": "python",
   "pygments_lexer": "ipython3",
   "version": "3.8.3"
  },
  "toc": {
   "base_numbering": 1,
   "nav_menu": {},
   "number_sections": true,
   "sideBar": true,
   "skip_h1_title": false,
   "title_cell": "Table of Contents",
   "title_sidebar": "Contents",
   "toc_cell": false,
   "toc_position": {},
   "toc_section_display": true,
   "toc_window_display": false
  }
 },
 "nbformat": 4,
 "nbformat_minor": 2
}
