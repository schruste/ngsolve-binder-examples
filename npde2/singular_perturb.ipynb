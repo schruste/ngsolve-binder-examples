{
 "cells": [
  {
   "cell_type": "markdown",
   "metadata": {},
   "source": [
    "In this file we solve \n",
    "$  - \\varepsilon \\Delta u + w \\cdot \\nabla u = f $ on a bounded domain $\\Omega$, $u|_{\\partial \\Omega} = 0$, \n",
    "with standard FEM."
   ]
  },
  {
   "cell_type": "markdown",
   "metadata": {},
   "source": [
    "first, we import ngsolve and Netgens 2D geometry library:"
   ]
  },
  {
   "cell_type": "code",
   "execution_count": null,
   "metadata": {},
   "outputs": [],
   "source": [
    "from ngsolve import *\n",
    "from draw import PyVistaDraw as Draw\n",
    "from netgen.geom2d import SplineGeometry\n",
    "from netgen import gui\n",
    "ngsglobals.msg_level = 1"
   ]
  },
  {
   "cell_type": "markdown",
   "metadata": {},
   "source": [
    "generate a triangular mesh of mesh-size 0.1:"
   ]
  },
  {
   "cell_type": "code",
   "execution_count": null,
   "metadata": {},
   "outputs": [],
   "source": [
    "geo = SplineGeometry()\n",
    "geo.AddRectangle( (0, 0), (1, 1), bcs = (\"bottom\", \"right\", \"top\", \"left\"))\n",
    "maxh = 0.1\n",
    "mesh = Mesh( geo.GenerateMesh(maxh=maxh))\n",
    "Draw(mesh)"
   ]
  },
  {
   "cell_type": "markdown",
   "metadata": {},
   "source": [
    "parameters and exact solution:"
   ]
  },
  {
   "cell_type": "code",
   "execution_count": null,
   "metadata": {},
   "outputs": [],
   "source": [
    "w = (1,1)\n",
    "wind = CoefficientFunction(w)\n",
    "eps = 0.1\n",
    "\n",
    "p = lambda x: x + (exp(-w[0]*(1-x)/eps)-exp(-w[0]/eps))/(exp(-w[0]/eps)-1)\n",
    "q = lambda y: y + (exp(-w[1]*(1-y)/eps)-exp(-w[1]/eps))/(exp(-w[1]/eps)-1)\n",
    "exact = p(x) * q(y)\n",
    "\n",
    "coef_f =  w[1] * p(x) +  w[0] * q(y)"
   ]
  },
  {
   "cell_type": "markdown",
   "metadata": {},
   "source": [
    "Setup the discrete system:"
   ]
  },
  {
   "cell_type": "code",
   "execution_count": null,
   "metadata": {},
   "outputs": [],
   "source": [
    "# H1-conforming finite element space\n",
    "# Note that the Dirichlet boundary conditions are implemented into the space!\n",
    "V = H1(mesh, order=2, dirichlet=\"left|right|bottom|top\")\n",
    "u,v = V.TrialFunction(), V.TestFunction()\n",
    "\n",
    "h = specialcf.mesh_size\n",
    "\n",
    "laplace = lambda u : Trace(u.Operator(\"hesse\"))\n",
    "\n",
    "a = BilinearForm (V, symmetric=False)\n",
    "a += eps * grad(u) * grad(v) * dx + wind * grad(u) * v * dx \n",
    "\n",
    "f = LinearForm (V)\n",
    "f += coef_f * v * dx\n",
    "\n",
    "a.Assemble()\n",
    "f.Assemble()"
   ]
  },
  {
   "cell_type": "markdown",
   "metadata": {},
   "source": [
    "Solve the linear system:"
   ]
  },
  {
   "cell_type": "code",
   "execution_count": null,
   "metadata": {},
   "outputs": [],
   "source": [
    "# the solution field \n",
    "gfu = GridFunction (V)\n",
    "#gfu.Set(boundary_values,BND)\n",
    "# solving the arising linear system\n",
    "f.vec.data -= a.mat * gfu.vec\n",
    "gfu.vec.data += a.mat.Inverse(V.FreeDofs(), inverse=\"umfpack\") * f.vec"
   ]
  },
  {
   "cell_type": "markdown",
   "metadata": {},
   "source": [
    "Plot the solution:"
   ]
  },
  {
   "cell_type": "code",
   "execution_count": null,
   "metadata": {},
   "outputs": [],
   "source": [
    "# plot the solution\n",
    "Draw (gfu,sd=3)"
   ]
  },
  {
   "cell_type": "markdown",
   "metadata": {},
   "source": [
    "Compute different error measures:"
   ]
  },
  {
   "cell_type": "code",
   "execution_count": null,
   "metadata": {},
   "outputs": [],
   "source": [
    "print(\"             L2 norm Error =\", \n",
    "      sqrt(Integrate((gfu-exact)**2,\n",
    "                     mesh)))\n",
    "print(\"         H1 seminorm Error =\", \n",
    "      sqrt(Integrate((Norm(grad(gfu)-CoefficientFunction((exact.Diff(x),exact.Diff(y))) ) )**2,\n",
    "                     mesh)))\n",
    "print(\"streamline derivatie Error =\", \n",
    "      sqrt(Integrate((wind*(grad(gfu)-CoefficientFunction((exact.Diff(x),exact.Diff(y))) ) )**2,\n",
    "                     mesh)))"
   ]
  },
  {
   "cell_type": "markdown",
   "metadata": {},
   "source": [
    "Compute streamline diffusion error on restricted domain:"
   ]
  },
  {
   "cell_type": "code",
   "execution_count": null,
   "metadata": {},
   "outputs": [],
   "source": [
    "delta = 1.5*maxh\n",
    "cutoff = IfPos(1-delta-x,1,0) * IfPos(1-delta-y,1,0)\n",
    "print(\"streamline derivatie Error (cutoff) =\", \n",
    "      sqrt(Integrate(cutoff*(wind*(grad(gfu)-CoefficientFunction((exact.Diff(x),exact.Diff(y))) ) )**2,\n",
    "                     mesh)))\n"
   ]
  }
 ],
 "metadata": {
  "kernelspec": {
   "display_name": "Python 3",
   "language": "python",
   "name": "python3"
  },
  "language_info": {
   "codemirror_mode": {
    "name": "ipython",
    "version": 3
   },
   "file_extension": ".py",
   "mimetype": "text/x-python",
   "name": "python",
   "nbconvert_exporter": "python",
   "pygments_lexer": "ipython3",
   "version": "3.8.2"
  },
  "toc": {
   "base_numbering": 1,
   "nav_menu": {},
   "number_sections": true,
   "sideBar": true,
   "skip_h1_title": false,
   "title_cell": "Table of Contents",
   "title_sidebar": "Contents",
   "toc_cell": false,
   "toc_position": {},
   "toc_section_display": true,
   "toc_window_display": false
  }
 },
 "nbformat": 4,
 "nbformat_minor": 4
}
