{
 "cells": [
  {
   "cell_type": "markdown",
   "metadata": {},
   "source": [
    "# Imports"
   ]
  },
  {
   "cell_type": "code",
   "execution_count": null,
   "metadata": {},
   "outputs": [],
   "source": [
    "from ngsolve.meshes import *\n",
    "from ngsolve import *\n",
    "from netgen.geom2d import *\n",
    "from draw import Draw"
   ]
  },
  {
   "cell_type": "markdown",
   "metadata": {},
   "source": [
    "# Mesh generation of domain $(0,1)^2$\n",
    "Structured quadrilateral or unstructured mesh:"
   ]
  },
  {
   "cell_type": "code",
   "execution_count": null,
   "metadata": {},
   "outputs": [],
   "source": [
    "unstructured = False"
   ]
  },
  {
   "cell_type": "code",
   "execution_count": null,
   "metadata": {},
   "outputs": [],
   "source": [
    "if unstructured:\n",
    "    periodic = SplineGeometry()\n",
    "    pnts = [ (0,0), (1,0), (1,1), (0,1) ]\n",
    "    pnums = [periodic.AppendPoint(*p) for p in pnts]\n",
    "    periodic.Append ( [\"line\", pnums[0], pnums[1]],bc=\"bottom\")\n",
    "    lright = periodic.Append ( [\"line\", pnums[1], pnums[2]], bc=\"periodic\")\n",
    "    periodic.Append ( [\"line\", pnums[2], pnums[3]], bc=\"top\")\n",
    "    periodic.Append ( [\"line\", pnums[0], pnums[3]], leftdomain=0, rightdomain=1, copy=lright, bc=\"periodic\")\n",
    "    mesh = Mesh(periodic.GenerateMesh(maxh=1/12.8))\n",
    "else:\n",
    "    mesh = MakeStructured2DMesh(nx=16, ny=4, periodic_x=True)"
   ]
  },
  {
   "cell_type": "markdown",
   "metadata": {},
   "source": [
    "# DG FESpace"
   ]
  },
  {
   "cell_type": "code",
   "execution_count": null,
   "metadata": {},
   "outputs": [],
   "source": [
    "order = 2\n",
    "fes = L2(mesh, order=order, dgjumps=True, all_dofs_together=True)\n",
    "u, v = fes.TnT()"
   ]
  },
  {
   "cell_type": "markdown",
   "metadata": {},
   "source": [
    "# Physical parameters \n",
    "$$\n",
    "      - \\operatorname{div}( \\boldsymbol{\\epsilon} \\nabla u) + \\mathbf{w}^\\ast \\cdot \\nabla u = 0 \\quad \\text{in } Q.\n",
    "$$\n",
    "  where $\\boldsymbol{\\epsilon} = \\left( \\begin{array}{cc} \\varepsilon & 0 \\\\ 0 & 0 \\end{array} \\right)$, $\\mathbf{w}^\\ast(x,t) = \\left( \\begin{array}{c} \\mathbf{w}(x,t) \\\\ 1 \\end{array} \\right)$, $\\nabla^\\ast=\\left( \\begin{array}{c} \\partial_x \\\\ \\partial_t \\end{array} \\right)$ and $n_Q$ the outer normal on $Q$. "
   ]
  },
  {
   "cell_type": "code",
   "execution_count": null,
   "metadata": {},
   "outputs": [],
   "source": [
    "eps = 0.005\n",
    "b = CoefficientFunction((cos(4*pi*y), 1))\n",
    "ubnd = exp(-40*(x-0.5)**2)"
   ]
  },
  {
   "cell_type": "markdown",
   "metadata": {},
   "source": [
    "# Discretization parameters: \n",
    "$\\lambda$: Symmetric interior penalty parameter"
   ]
  },
  {
   "cell_type": "code",
   "execution_count": null,
   "metadata": {},
   "outputs": [],
   "source": [
    "lambd = 40\n",
    "h = specialcf.mesh_size\n",
    "n = specialcf.normal(mesh.dim)"
   ]
  },
  {
   "cell_type": "markdown",
   "metadata": {},
   "source": [
    "# Diffusion discretization:\n",
    "Symmetric interior penalty acting only in spatial direction. Jump and average terms as usual except for the selection of the spatial component `[0]` and the weighting with `n[0]`:"
   ]
  },
  {
   "cell_type": "code",
   "execution_count": null,
   "metadata": {},
   "outputs": [],
   "source": [
    "space_jump_u = (u-u.Other())*(n[0])\n",
    "space_jump_v = (v-v.Other())*(n[0])\n",
    "space_mean_dudn = 0.5*n[0] * (grad(u)[0]+grad(u.Other())[0])\n",
    "space_mean_dvdn = 0.5*n[0] * (grad(v)[0]+grad(v.Other())[0])"
   ]
  },
  {
   "cell_type": "markdown",
   "metadata": {},
   "source": [
    "This yields the diffusion operator:"
   ]
  },
  {
   "cell_type": "code",
   "execution_count": null,
   "metadata": {},
   "outputs": [],
   "source": [
    "space_diffusion = grad(u)[0]*grad(v)[0] * dx \\\n",
    "    + lambd*order**2/h*space_jump_u*space_jump_v*dx(skeleton=True) \\\n",
    "    + (-space_mean_dudn*space_jump_v-space_mean_dvdn*space_jump_u)*dx(skeleton=True)"
   ]
  },
  {
   "cell_type": "markdown",
   "metadata": {},
   "source": [
    "# Space-time convection\n",
    "The convection term is the usual one, but interpreted as a space-time operator:"
   ]
  },
  {
   "cell_type": "code",
   "execution_count": null,
   "metadata": {},
   "outputs": [],
   "source": [
    "space_time_convection = -b * u * grad(v)*dx \\\n",
    "    + b*n*IfPos(b*n, u, u.Other()) * (v-v.Other()) * dx(skeleton=True) \\\n",
    "    + b*n*u*v * ds(definedon=mesh.Boundaries(\"top\"),skeleton=True)"
   ]
  },
  {
   "cell_type": "markdown",
   "metadata": {},
   "source": [
    "# Setup of linear system:"
   ]
  },
  {
   "cell_type": "code",
   "execution_count": null,
   "metadata": {},
   "outputs": [],
   "source": [
    "a = BilinearForm(fes)\n",
    "a += eps * space_diffusion + space_time_convection\n",
    "a.Assemble()"
   ]
  },
  {
   "cell_type": "code",
   "execution_count": null,
   "metadata": {},
   "outputs": [],
   "source": [
    "f = LinearForm(fes)\n",
    "f += ubnd * v * ds(definedon=mesh.Boundaries(\"bottom\"),skeleton=True)\n",
    "f.Assemble()"
   ]
  },
  {
   "cell_type": "markdown",
   "metadata": {},
   "source": [
    "# Solution of linear system and visualization"
   ]
  },
  {
   "cell_type": "code",
   "execution_count": null,
   "metadata": {},
   "outputs": [],
   "source": [
    "gfu = GridFunction(fes)\n",
    "gfu.vec.data = a.mat.Inverse(freedofs=fes.FreeDofs(), inverse=\"umfpack\") * f.vec\n",
    "Draw(0.4*gfu, mesh, \"u\",sd=4)"
   ]
  },
  {
   "cell_type": "markdown",
   "metadata": {},
   "source": [
    "# Display of the sparsity pattern:"
   ]
  },
  {
   "cell_type": "code",
   "execution_count": null,
   "metadata": {},
   "outputs": [],
   "source": [
    "import scipy.sparse as sp\n",
    "import matplotlib.pyplot as plt\n",
    "\n",
    "plt.spy(sp.csr_matrix(a.mat.CSR()),precision=0,markersize=64*5/fes.ndof)\n",
    "plt.show()"
   ]
  }
 ],
 "metadata": {
  "kernelspec": {
   "display_name": "Python 3",
   "language": "python",
   "name": "python3"
  },
  "language_info": {
   "codemirror_mode": {
    "name": "ipython",
    "version": 3
   },
   "file_extension": ".py",
   "mimetype": "text/x-python",
   "name": "python",
   "nbconvert_exporter": "python",
   "pygments_lexer": "ipython3",
   "version": "3.8.2"
  },
  "livereveal": {
   "autolaunch": true
  },
  "toc": {
   "base_numbering": 1,
   "nav_menu": {},
   "number_sections": true,
   "sideBar": true,
   "skip_h1_title": false,
   "title_cell": "Table of Contents",
   "title_sidebar": "Contents",
   "toc_cell": false,
   "toc_position": {},
   "toc_section_display": true,
   "toc_window_display": false
  }
 },
 "nbformat": 4,
 "nbformat_minor": 4
}
