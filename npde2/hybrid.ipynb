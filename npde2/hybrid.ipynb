{
 "cells": [
  {
   "cell_type": "markdown",
   "metadata": {},
   "source": [
    "# Excerpt from the NGSolve i-tutorials (tutorial 2.7)\n",
    "# 2.7 Facet spaces and hybrid methods\n",
    "\n",
    "Mixed methods for second order problems lead to saddle point problems, and indefinite matrices. By hybridization one obtains a positive definite system again. It's structure is similar to the non-conforming $P^1$ method, but hybridization works for any order. See text-book by Brezzi and Fortin.\n",
    "\n",
    "One skips the normal-continuity of the $H(div)$ variable, and reinforces it by a Lagrange parameter. This leads to the following discrete system:"
   ]
  },
  {
   "cell_type": "markdown",
   "metadata": {},
   "source": [
    "Find $\\sigma, u, \\widehat u \\in \\Sigma_h \\times V_h \\times F_h$:\n",
    "\n",
    "$$\n",
    "\\DeclareMathOperator{\\Div}{div}\n",
    "\\begin{array}{ccccccll}\n",
    "\\sum_T \\int \\lambda^{-1} \\sigma \\tau & + & \\sum_T \\int_T \\Div \\tau \\, u & + & \\sum_F \\int_F [\\tau_n] \\widehat u & = & 0 & \\forall \\, \\tau \\in \\Sigma \\\\\n",
    "\\sum_T \\int \\Div \\sigma \\, v &&&&& = & \\int f v & \\forall \\, v \\in V_h \\\\\n",
    "\\sum_F \\int [ \\sigma_n ] \\, \\widehat v &&&&& = & \\int_{\\Gamma_n} g \\widehat v & \\forall \\, \\widehat v \\in F_h\n",
    "\\end{array}\n",
    "$$\n",
    "\n",
    "where $\\Sigma_h$ is an discontinuous $H(div)$ finite element space, $V_h$ a sub-space of $L_2$, and $F_h$ consists of polynomials on every edge."
   ]
  },
  {
   "cell_type": "code",
   "execution_count": null,
   "metadata": {},
   "outputs": [],
   "source": [
    "from netgen.geom2d import unit_square\n",
    "from ngsolve import *\n",
    "from draw import Draw\n",
    "mesh = Mesh(unit_square.GenerateMesh(maxh=0.2))"
   ]
  },
  {
   "cell_type": "markdown",
   "metadata": {},
   "source": [
    "same example as in 'mixed':"
   ]
  },
  {
   "cell_type": "code",
   "execution_count": null,
   "metadata": {},
   "outputs": [],
   "source": [
    "source = sin(3.14*x)\n",
    "ud = CoefficientFunction(5)\n",
    "g = CoefficientFunction([0,0,0,y*(1-y)])\n",
    "lam = 10"
   ]
  },
  {
   "cell_type": "markdown",
   "metadata": {},
   "source": [
    "define spaces: \n",
    "\n",
    "* The *discontinuous* flag generates an element-wise $H(Div)$-space\n",
    "* FacetFESpace lives only on facets (i.e. faces in 3D, edges in 2D, points in 1D)\n",
    "\n",
    "Boundary conditions are now posed for the facet-space"
   ]
  },
  {
   "cell_type": "code",
   "execution_count": null,
   "metadata": {},
   "outputs": [],
   "source": [
    "order = 4\n",
    "V = HDiv(mesh, order=order, discontinuous=True)\n",
    "# V = Discontinuous(HDiv(mesh, order=order))\n",
    "Q = L2(mesh, order=order-1)\n",
    "F = FacetFESpace(mesh, order=order, dirichlet=\"bottom\")\n",
    "X = FESpace([V,Q,F])\n",
    "print (\"sigmadofs:\", X.Range(0))\n",
    "print (\"udofs:    \", X.Range(1))\n",
    "print (\"uhatdofs: \", X.Range(2))"
   ]
  },
  {
   "cell_type": "markdown",
   "metadata": {},
   "source": [
    "Assemble forms. The jump-term is rewritten as\n",
    "$$\n",
    "\\sum_F \\int_F [\\sigma_n] v = \\sum_T \\int_{\\partial T} \\sigma_n v\n",
    "$$"
   ]
  },
  {
   "cell_type": "code",
   "execution_count": null,
   "metadata": {},
   "outputs": [],
   "source": [
    "sigma,u,uhat = X.TrialFunction()\n",
    "tau,v,vhat = X.TestFunction()\n",
    "\n",
    "a = BilinearForm(X, condense=False)\n",
    "a += (1/lam * sigma*tau + div(sigma)*v + div(tau)*u) * dx\n",
    "n = specialcf.normal(mesh.dim)\n",
    "a += (-sigma*n*vhat-tau*n*uhat) * dx(element_boundary=True)\n",
    "\n",
    "f = LinearForm(X)\n",
    "f += -source*v * dx - g*vhat.Trace() * ds\n",
    "\n",
    "a.Assemble()\n",
    "print (\"A non-zero\", a.mat.nze)\n",
    "\n",
    "gf = GridFunction(X)"
   ]
  },
  {
   "cell_type": "markdown",
   "metadata": {},
   "source": [
    "Solve system."
   ]
  },
  {
   "cell_type": "code",
   "execution_count": null,
   "metadata": {},
   "outputs": [],
   "source": [
    "f.Assemble()\n",
    "gf.components[2].Set(ud, BND)\n",
    "\n",
    "r = f.vec.CreateVector()\n",
    "r.data = f.vec - a.mat * gf.vec\n",
    "inv = a.mat.Inverse(freedofs=X.FreeDofs(a.condense))\n",
    "if a.condense:\n",
    "    r.data += a.harmonic_extension_trans * r\n",
    "gf.vec.data += inv * r\n",
    "if a.condense:\n",
    "    gf.vec.data += a.harmonic_extension * gf.vec\n",
    "    gf.vec.data += a.inner_solve * f.vec    "
   ]
  },
  {
   "cell_type": "code",
   "execution_count": null,
   "metadata": {},
   "outputs": [],
   "source": [
    "gfsigma = gf.components[0]\n",
    "Draw (0.1*gfsigma, mesh, \"sigma\",sd=2)"
   ]
  },
  {
   "cell_type": "code",
   "execution_count": null,
   "metadata": {},
   "outputs": [],
   "source": [
    "gfu = gf.components[1]\n",
    "Draw (gfu, mesh, \"u\",sd=2)"
   ]
  },
  {
   "cell_type": "markdown",
   "metadata": {},
   "source": [
    "### Postprocessing:"
   ]
  },
  {
   "cell_type": "markdown",
   "metadata": {},
   "source": [
    "#### primal solution (as reference):"
   ]
  },
  {
   "cell_type": "code",
   "execution_count": null,
   "metadata": {},
   "outputs": [],
   "source": [
    "fesp = H1(mesh, order=order, dirichlet=\"bottom\")\n",
    "up, vp = fesp.TnT()\n",
    "\n",
    "ap = BilinearForm(fesp)\n",
    "ap += lam*grad(up)*grad(vp)*dx\n",
    "ap.Assemble()\n",
    "\n",
    "fp = LinearForm(fesp)\n",
    "fp += source*vp*dx + g*vp * ds\n",
    "fp.Assemble()\n",
    "\n",
    "gfup = GridFunction(fesp, \"u-primal\")\n",
    "gfup.Set(ud, BND)\n",
    "\n",
    "r = fp.vec.CreateVector()\n",
    "r.data = fp.vec - ap.mat * gfup.vec\n",
    "gfup.vec.data += ap.mat.Inverse(freedofs=fesp.FreeDofs()) * r\n",
    "Draw (gfup)"
   ]
  },
  {
   "cell_type": "markdown",
   "metadata": {},
   "source": [
    "#### postprocessed solution:"
   ]
  },
  {
   "cell_type": "code",
   "execution_count": null,
   "metadata": {},
   "outputs": [],
   "source": [
    "order_flux=order\n",
    "fespost_u = L2(mesh, order=order_flux+1)\n",
    "fespost_lam = L2(mesh, order=0)\n",
    "fes_post = FESpace([fespost_u,fespost_lam])\n",
    "\n",
    "u,la = fes_post.TrialFunction()\n",
    "v,mu = fes_post.TestFunction()\n",
    "\n",
    "a = BilinearForm(fes_post)\n",
    "a += (lam*grad(u)*grad(v)+la*v+mu*u)*dx\n",
    "a.Assemble()\n",
    "f = LinearForm(fes_post)\n",
    "f += (gfsigma*grad(v)+gfu*mu)*dx\n",
    "f.Assemble()\n",
    "\n",
    "gfpost = GridFunction(fes_post)\n",
    "gfpost.vec.data = a.mat.Inverse() * f.vec\n",
    "\n",
    "print (\"err-upost:   \", sqrt(Integrate( (gfup-gfpost.components[0])**2, mesh)))"
   ]
  },
  {
   "cell_type": "code",
   "execution_count": null,
   "metadata": {},
   "outputs": [],
   "source": [
    "Draw (gfpost.components[0], mesh, \"upost\")"
   ]
  }
 ],
 "metadata": {
  "kernelspec": {
   "display_name": "Python 3",
   "language": "python",
   "name": "python3"
  },
  "language_info": {
   "codemirror_mode": {
    "name": "ipython",
    "version": 3
   },
   "file_extension": ".py",
   "mimetype": "text/x-python",
   "name": "python",
   "nbconvert_exporter": "python",
   "pygments_lexer": "ipython3",
   "version": "3.8.3"
  }
 },
 "nbformat": 4,
 "nbformat_minor": 4
}
