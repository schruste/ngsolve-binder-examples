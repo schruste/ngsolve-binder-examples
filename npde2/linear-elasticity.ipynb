{
 "cells": [
  {
   "cell_type": "markdown",
   "metadata": {},
   "source": [
    "In this file we solve \n",
    "\n",
    "$  - \\operatorname{div}( 2 \\mu \\varepsilon(u)) + \\lambda \\nabla \\operatorname{div} u = f $\n",
    "\n",
    "on a bounded domain $\\Omega$ with (pure) Dirichlet boundary data."
   ]
  },
  {
   "cell_type": "markdown",
   "metadata": {},
   "source": [
    "First, we import ngsolve and Netgens 2D geometry library:"
   ]
  },
  {
   "cell_type": "code",
   "execution_count": null,
   "metadata": {},
   "outputs": [],
   "source": [
    "from ngsolve import *\n",
    "from ngsolve.meshes import *\n",
    "from draw import Draw"
   ]
  },
  {
   "cell_type": "markdown",
   "metadata": {},
   "source": [
    "generate a structured triangular mesh"
   ]
  },
  {
   "cell_type": "code",
   "execution_count": null,
   "metadata": {},
   "outputs": [],
   "source": [
    "N=0 # refinement level\n",
    "mesh = MakeStructured2DMesh(quads=False,nx=2**(N+1),ny=2**(N+1))\n",
    "Draw(mesh)"
   ]
  },
  {
   "cell_type": "markdown",
   "metadata": {},
   "source": [
    "parameters and exact solution:"
   ]
  },
  {
   "cell_type": "code",
   "execution_count": null,
   "metadata": {},
   "outputs": [],
   "source": [
    "mu = 1\n",
    "lam = 1\n",
    "order = 1\n",
    "\n",
    "uexact = CoefficientFunction((sin(pi*x)*sin(pi*y),\n",
    "                              cos(pi*x)*cos(pi*y)))\n",
    "duexact = CoefficientFunction(( pi*cos(pi*x)*sin(pi*y),\n",
    "                                pi*sin(pi*x)*cos(pi*y),\n",
    "                               -pi*sin(pi*x)*cos(pi*y),\n",
    "                               -pi*cos(pi*x)*sin(pi*y)),dims=(2,2))\n",
    "coef_f = 2*mu*CoefficientFunction((pi**2*sin(pi*x)*sin(pi*y),pi**2*cos(pi*x)*cos(pi*y)))"
   ]
  },
  {
   "cell_type": "markdown",
   "metadata": {},
   "source": [
    "Setup the discrete system:"
   ]
  },
  {
   "cell_type": "code",
   "execution_count": null,
   "metadata": {},
   "outputs": [],
   "source": [
    "V = VectorH1(mesh,order=order, dirichlet=\"left|right|top|bottom\")\n",
    "u,v = V.TnT()\n",
    "\n",
    "a = BilinearForm(V)\n",
    "a += 2*mu*InnerProduct(Sym(grad(u)), Sym(grad(v))) * dx\\\n",
    "    + lam*div(u)*div(v) * dx\n",
    "        \n",
    "f = LinearForm(V)   \n",
    "f += coef_f * v * dx(bonus_intorder=10)\n",
    "        \n",
    "a.Assemble()\n",
    "f.Assemble()"
   ]
  },
  {
   "cell_type": "markdown",
   "metadata": {},
   "source": [
    "Solve the linear system:"
   ]
  },
  {
   "cell_type": "code",
   "execution_count": null,
   "metadata": {},
   "outputs": [],
   "source": [
    "# gridfunction for the solution\n",
    "gfu = GridFunction(V)\n",
    "gfu.Set(uexact, definedon=mesh.Boundaries(\"left|right|top|bottom\"))\n",
    "f.vec.data -= a.mat * gfu.vec\n",
    "gfu.vec.data += a.mat.Inverse(V.FreeDofs()) * f.vec"
   ]
  },
  {
   "cell_type": "markdown",
   "metadata": {},
   "source": [
    "Plot the solution:"
   ]
  },
  {
   "cell_type": "code",
   "execution_count": null,
   "metadata": {
    "scrolled": false
   },
   "outputs": [],
   "source": [
    "# plot the solution\n",
    "Draw (0.05*gfu,mesh,\"u\",sd=1)"
   ]
  },
  {
   "cell_type": "markdown",
   "metadata": {},
   "source": [
    "Compute different error measures:"
   ]
  },
  {
   "cell_type": "code",
   "execution_count": null,
   "metadata": {},
   "outputs": [],
   "source": [
    "errorl2=sqrt(Integrate(Norm(gfu-uexact)**2,mesh,order=2*order))\n",
    "errorh1=sqrt(Integrate(Norm(grad(gfu)-duexact)**2,mesh,order=2*order))\n",
    "print(\"             L2 norm Error =\", errorl2)\n",
    "print(\"         H1 seminorm Error =\", errorh1)"
   ]
  }
 ],
 "metadata": {
  "kernelspec": {
   "display_name": "Python 3",
   "language": "python",
   "name": "python3"
  },
  "language_info": {
   "codemirror_mode": {
    "name": "ipython",
    "version": 3
   },
   "file_extension": ".py",
   "mimetype": "text/x-python",
   "name": "python",
   "nbconvert_exporter": "python",
   "pygments_lexer": "ipython3",
   "version": "3.8.3"
  },
  "toc": {
   "base_numbering": 1,
   "nav_menu": {},
   "number_sections": true,
   "sideBar": true,
   "skip_h1_title": false,
   "title_cell": "Table of Contents",
   "title_sidebar": "Contents",
   "toc_cell": false,
   "toc_position": {},
   "toc_section_display": true,
   "toc_window_display": false
  }
 },
 "nbformat": 4,
 "nbformat_minor": 4
}
