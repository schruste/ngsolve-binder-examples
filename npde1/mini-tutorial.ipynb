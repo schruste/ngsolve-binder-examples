{
 "cells": [
  {
   "cell_type": "markdown",
   "metadata": {},
   "source": [
    "# About this document"
   ]
  },
  {
   "cell_type": "markdown",
   "metadata": {},
   "source": [
    "This is a non-exhaustive tutorial on NGSolve. It should help you to get started with NGSolve or to refresh your memory. For all the topics discussed here there is much more material, see below."
   ]
  },
  {
   "cell_type": "markdown",
   "metadata": {},
   "source": [
    "Purpose of this tutorial:\n",
    " * Introduction to some very basic concepts in Netgen/NGSolve\n",
    " * Experience with NGSolve (Visualization, vectors, ..) and using the documentation "
   ]
  },
  {
   "cell_type": "markdown",
   "metadata": {},
   "source": [
    "Further Material:\n",
    " * [official jupyter tutorials of NGSolve](https://ngsolve.org/docu/latest/i-tutorials/index.html)\n",
    " * [jupyter-based course on Discontinuous Galerkin methods using NGSolve](http://num.math.uni-goettingen.de/~lehrenfeld/sections/pubs_src/DG-NGS-Hasselt.tar.gz)\n",
    " * [NGSolve Tutorial based on applications by J. Schöberl](https://ngsolve.org/iFEM/iFEM.zip)\n",
    " * [Crash course on FEM with NGSolve](http://num.math.uni-goettingen.de/~lehrenfeld/sections/pubs_src/crash_course_fem.tar.gz)\n",
    " "
   ]
  },
  {
   "cell_type": "markdown",
   "metadata": {
    "hideCode": false,
    "hidePrompt": false,
    "slideshow": {
     "slide_type": "subslide"
    }
   },
   "source": [
    "Import NGSolve.\n",
    "For the visualization we use `pyvista` if available, otherwise we use the netgen GUI (assuming it can be spawned):"
   ]
  },
  {
   "cell_type": "code",
   "execution_count": null,
   "metadata": {
    "hideCode": false,
    "hidePrompt": false,
    "slideshow": {
     "slide_type": "-"
    }
   },
   "outputs": [],
   "source": [
    "from ngsolve import *\n",
    "import netgen.geom2d\n",
    "from draw import Draw"
   ]
  },
  {
   "cell_type": "markdown",
   "metadata": {
    "hideCode": false,
    "hidePrompt": false,
    "slideshow": {
     "slide_type": "slide"
    }
   },
   "source": [
    "# Geometries and meshes in 2D"
   ]
  },
  {
   "cell_type": "markdown",
   "metadata": {
    "hideCode": false,
    "hidePrompt": false,
    "slideshow": {
     "slide_type": "slide"
    }
   },
   "source": [
    "The functionality for describing 2D Geometries with Netgen from python are in the `geom2d` library. \n",
    "\n",
    "To check the available objects in that library you may try\n",
    "```\n",
    "dir(netgen.geom2d)\n",
    "``` "
   ]
  },
  {
   "cell_type": "code",
   "execution_count": null,
   "metadata": {},
   "outputs": [],
   "source": [
    "dir(netgen.geom2d)"
   ]
  },
  {
   "cell_type": "markdown",
   "metadata": {},
   "source": [
    "To find out more information about an object or a function you may use the contextual help (jupyterlab) or"
   ]
  },
  {
   "cell_type": "code",
   "execution_count": null,
   "metadata": {},
   "outputs": [],
   "source": [
    "help(netgen.geom2d.SplineGeometry)"
   ]
  },
  {
   "cell_type": "markdown",
   "metadata": {
    "hideCode": false,
    "hidePrompt": false,
    "slideshow": {
     "slide_type": "slide"
    }
   },
   "source": [
    "*Netgen* stores and handles meshes while *NGSolve* works with the mesh when computing PDE approximations. In *NGS-Py* there are two different type of \"meshes\": \n",
    " * *Netgen*-meshes that store and handle geometry, nodes, etc...\n",
    " * *NGSolve*-meshes which are a wrapper around the *Netgen*-mesh that offer more top-level information that are important for discretization (boundary conditions, loop over elements, ...). We notice that an *NGSolve*-mesh `mesh` has an object `mesh.ngmesh` which is the underlying *Netgen*-mesh. For  visualization we will always use only the *NGSolve*-mesh."
   ]
  },
  {
   "cell_type": "code",
   "execution_count": null,
   "metadata": {
    "hideCode": false,
    "hidePrompt": false,
    "slideshow": {
     "slide_type": "-"
    }
   },
   "outputs": [],
   "source": [
    "from netgen.geom2d import unit_square\n",
    "mesh = Mesh(unit_square.GenerateMesh(maxh=0.1))\n",
    "Draw(mesh)"
   ]
  },
  {
   "cell_type": "markdown",
   "metadata": {
    "hideCode": false,
    "hidePrompt": false,
    "slideshow": {
     "slide_type": "slide"
    }
   },
   "source": [
    "## Generating a geometry\n",
    "\n",
    "Most geometries in 2D can easily be described with Splines. \n",
    "\n",
    "We will only import the `SplineGeometry` class from the `geom2d`:"
   ]
  },
  {
   "cell_type": "code",
   "execution_count": null,
   "metadata": {
    "hideCode": false,
    "hidePrompt": false,
    "slideshow": {
     "slide_type": "-"
    }
   },
   "outputs": [],
   "source": [
    "from netgen.geom2d import SplineGeometry\n",
    "geo = SplineGeometry()"
   ]
  },
  {
   "cell_type": "markdown",
   "metadata": {
    "hideCode": false,
    "hidePrompt": false,
    "slideshow": {
     "slide_type": "fragment"
    }
   },
   "source": [
    "Now we can use one of the predefined objects (Rectangle,Circle) or generate our own geometry with lines or rational splines of 2nd order."
   ]
  },
  {
   "cell_type": "markdown",
   "metadata": {
    "hideCode": false,
    "hidePrompt": false,
    "slideshow": {
     "slide_type": "subslide"
    }
   },
   "source": [
    "### Predefined geometries\n",
    "There are some simple predefined geometries (check `dir(geo)`), e.g. `rectangle` and `circle`."
   ]
  },
  {
   "cell_type": "code",
   "execution_count": null,
   "metadata": {
    "hideCode": false,
    "hidePrompt": false,
    "slideshow": {
     "slide_type": "-"
    }
   },
   "outputs": [],
   "source": [
    "geo_rect = SplineGeometry()\n",
    "geo_rect.AddRectangle((-1,-1),(1,1),bc=\"rectangle\")\n",
    "#print(dir(geo))"
   ]
  },
  {
   "cell_type": "markdown",
   "metadata": {
    "hideCode": false,
    "hidePrompt": false,
    "slideshow": {
     "slide_type": "subslide"
    }
   },
   "source": [
    "Every `SplineGeometry` can call the mesh generator to obtain a *Netgen*-mesh:"
   ]
  },
  {
   "cell_type": "code",
   "execution_count": null,
   "metadata": {
    "hideCode": false,
    "hidePrompt": false,
    "slideshow": {
     "slide_type": "-"
    }
   },
   "outputs": [],
   "source": [
    "ngmesh_rect = geo_rect.GenerateMesh(maxh=0.1)\n",
    "ngsmesh_rect = Mesh(ngmesh_rect)\n",
    "Draw(ngsmesh_rect)"
   ]
  },
  {
   "cell_type": "code",
   "execution_count": null,
   "metadata": {
    "hideCode": false,
    "hidePrompt": false,
    "slideshow": {
     "slide_type": "fragment"
    }
   },
   "outputs": [],
   "source": [
    "geo_circle = SplineGeometry()\n",
    "geo_circle.AddCircle((0,0),0.5,bc=\"circle\")\n",
    "ngmesh_circle = geo_circle.GenerateMesh(maxh=0.4)\n",
    "ngsmesh_circle = Mesh(ngmesh_circle)\n",
    "ngsmesh_circle.Curve(3)\n",
    "Draw(ngsmesh_circle,sd=3)  #in the GUI version switch to \"solution\" and increase the subdivision manually"
   ]
  },
  {
   "cell_type": "markdown",
   "metadata": {
    "hideCode": false,
    "hidePrompt": false,
    "slideshow": {
     "slide_type": "slide"
    }
   },
   "source": [
    "## Using lines and splines\n",
    "* define a new geometry `geo`\n",
    "* write a list of points \n",
    "* add them to geometry `geo`."
   ]
  },
  {
   "cell_type": "code",
   "execution_count": null,
   "metadata": {
    "hideCode": false,
    "hidePrompt": false,
    "slideshow": {
     "slide_type": "-"
    }
   },
   "outputs": [],
   "source": [
    "geo_curved = SplineGeometry()\n",
    "\n",
    "pnts =[(0,0),\n",
    "       (1,0),\n",
    "       (1,0.5),\n",
    "       (1,1),\n",
    "       (0.5,1),\n",
    "       (0,1)]\n",
    "\n",
    "p1,p2,p3,p4,p5,p6 = [geo_curved.AppendPoint(*pnt) for pnt in pnts]"
   ]
  },
  {
   "cell_type": "markdown",
   "metadata": {
    "hideCode": false,
    "hidePrompt": false,
    "slideshow": {
     "slide_type": "subslide"
    }
   },
   "source": [
    "Then we define the curves which define our geometry and add them to the geometry using `Append`."
   ]
  },
  {
   "cell_type": "markdown",
   "metadata": {},
   "source": [
    "<img src=\"img/curved.png\" width=\"320\" height=\"320\" align=\"center\"/>"
   ]
  },
  {
   "cell_type": "code",
   "execution_count": null,
   "metadata": {
    "hideCode": false,
    "hidePrompt": false,
    "scrolled": true,
    "slideshow": {
     "slide_type": "-"
    }
   },
   "outputs": [],
   "source": [
    "curves = [[[\"line\",p1,p2],\"bottom\"],\n",
    "          [[\"line\",p2,p3],\"right\"],\n",
    "          [[\"spline3\",p3,p4,p5],\"curve\"],\n",
    "          [[\"line\",p5,p6],\"top\"],\n",
    "          [[\"line\",p6,p1],\"left\"]]\n",
    "\n",
    "[geo_curved.Append(c,bc=bc) for c,bc in curves]"
   ]
  },
  {
   "cell_type": "code",
   "execution_count": null,
   "metadata": {
    "hideCode": false,
    "hidePrompt": false,
    "slideshow": {
     "slide_type": "fragment"
    }
   },
   "outputs": [],
   "source": [
    "ngmesh_curved = geo_curved.GenerateMesh(maxh=0.2)\n",
    "ngsmesh_curved = Mesh(ngmesh_curved)\n",
    "ngsmesh_curved.Curve(3)\n",
    "Draw(ngsmesh_curved,sd=3) #in the GUI version switch to \"solution\" and increase the subdivision manually"
   ]
  },
  {
   "cell_type": "markdown",
   "metadata": {
    "hideCode": false,
    "hidePrompt": false,
    "slideshow": {
     "slide_type": "slide"
    }
   },
   "source": [
    "## Hands-On-Task 1:\n",
    "1. Generate a mesh of a triangular domain.\n",
    "2. (If time permits) Make up your own interesting geometry."
   ]
  },
  {
   "cell_type": "markdown",
   "metadata": {},
   "source": [
    "<img src=\"img/triangle.png\" width=\"320\" height=\"320\" align=\"center\"/>"
   ]
  },
  {
   "cell_type": "code",
   "execution_count": null,
   "metadata": {},
   "outputs": [],
   "source": [
    "#TODO"
   ]
  },
  {
   "cell_type": "markdown",
   "metadata": {},
   "source": [
    "# FEM"
   ]
  },
  {
   "cell_type": "markdown",
   "metadata": {},
   "source": [
    "## `FESpace`s  and `GridFunction`s"
   ]
  },
  {
   "cell_type": "code",
   "execution_count": null,
   "metadata": {},
   "outputs": [],
   "source": [
    "mesh = ngsmesh_circle\n",
    "print(\"number of elements:\", mesh.ne)\n",
    "Draw(mesh,sd=3)"
   ]
  },
  {
   "cell_type": "markdown",
   "metadata": {},
   "source": [
    "A finite element space defines a set of basis functions on the mesh:"
   ]
  },
  {
   "cell_type": "code",
   "execution_count": null,
   "metadata": {},
   "outputs": [],
   "source": [
    "fes = H1(mesh, order=1)\n",
    "fes.ndof"
   ]
  },
  {
   "cell_type": "markdown",
   "metadata": {},
   "source": [
    "A `GridFunction` is the connection between the basis functions of a finite element space and a linear algebra vector $\\underline{u} \\in \\mathbb{R}^N$:\n",
    "$$\n",
    "u_h(x) = \\sum_{i=1}^N \\underline{u}_i \\varphi_i(x)\n",
    "$$"
   ]
  },
  {
   "cell_type": "code",
   "execution_count": null,
   "metadata": {},
   "outputs": [],
   "source": [
    "gfu = GridFunction(fes)\n",
    "gfu.vec[:] = 0; gfu.vec[16] = 1\n",
    "Draw(0.25*gfu,mesh,\"gfu\",sd=3)"
   ]
  },
  {
   "cell_type": "markdown",
   "metadata": {
    "hideCode": false,
    "hidePrompt": false,
    "slideshow": {
     "slide_type": "slide"
    }
   },
   "source": [
    "### Hands-On-Task 2:\n",
    "1. Inspect the following finite element spaces:\n",
    "`H1`, `L2`, `HDiv`, `HCurl`\n",
    "What can you say about the basis functions (and hence about the space) w.r.t. dimension, continuity, degrees of freedom?\n",
    "\n",
    "2. Consider `fes=FESpace(type=\"nonconforming\",mesh=ngsmesh)`. \n",
    "What are $(T,V_T,\\Psi_T)$ (domain, function space, functionals) in the definition of this finite element? \n",
    "\n",
    "3. Interpolate the function $x^2$ on this space with `GridFunction`'s member function `Set(..)`."
   ]
  },
  {
   "cell_type": "code",
   "execution_count": null,
   "metadata": {},
   "outputs": [],
   "source": [
    "#TODO"
   ]
  },
  {
   "cell_type": "markdown",
   "metadata": {},
   "source": [
    "## discretized PDE solutions"
   ]
  },
  {
   "cell_type": "markdown",
   "metadata": {},
   "source": [
    "Example here: Weak form of the Poisson problem Dirichlet boundary conditions: \n",
    "Find $u \\in V = H_0^1(\\Omega)$ such that\n",
    "$$\n",
    "A(u,v) = \\int_\\Omega \\nabla u \\cdot \\nabla v = \\int_\\Omega f v = f(v)\n",
    "$$\n",
    "for all $v \\in V = H_0^1(\\Omega)$."
   ]
  },
  {
   "cell_type": "markdown",
   "metadata": {},
   "source": [
    "Restriction of the weak formulation to $V_h$:\n",
    "$$\n",
    "\\text{find} \\, u_h \\in V_h : \\quad A(u_h,v_h) = f(v_h) \\quad \\forall \\, v_h \\in V_h\n",
    "$$"
   ]
  },
  {
   "cell_type": "markdown",
   "metadata": {},
   "source": [
    "Equivalent linear system:\n",
    "$$\n",
    " \\underline{A} \\cdot \\underline{u} = \\underline{f }\n",
    "$$\n",
    "with $\\underline{A}_{ij} = A(\\varphi_j,\\varphi_i)$, $\\underline{f}_{i} = f(\\varphi_i)$. "
   ]
  },
  {
   "cell_type": "code",
   "execution_count": null,
   "metadata": {},
   "outputs": [],
   "source": [
    "mesh = ngsmesh_circle\n",
    "#fes = FESpace(type=\"nonconforming\",\n",
    "#              mesh=mesh,dirichlet=\"circle\")\n",
    "fes = H1(mesh=mesh,dirichlet=\"circle\")\n",
    "gfu = GridFunction(fes)"
   ]
  },
  {
   "cell_type": "code",
   "execution_count": null,
   "metadata": {},
   "outputs": [],
   "source": [
    "u,v = fes.TnT()"
   ]
  },
  {
   "cell_type": "code",
   "execution_count": null,
   "metadata": {},
   "outputs": [],
   "source": [
    "# specify the forms by means of trial and test-functions:\n",
    "a = BilinearForm(fes)\n",
    "f = LinearForm(fes)\n",
    "a += SymbolicBFI (grad(u)*grad(v))\n",
    "f += SymbolicLFI (10*v)"
   ]
  },
  {
   "cell_type": "code",
   "execution_count": null,
   "metadata": {},
   "outputs": [],
   "source": [
    "# compute the matrix and right hand side vector\n",
    "a.Assemble()\n",
    "f.Assemble()"
   ]
  },
  {
   "cell_type": "markdown",
   "metadata": {},
   "source": [
    "### Dirichlet boundary conditions"
   ]
  },
  {
   "cell_type": "code",
   "execution_count": null,
   "metadata": {},
   "outputs": [],
   "source": [
    "gfu.Set(x,definedon=mesh.Boundaries(\"circle\"))"
   ]
  },
  {
   "cell_type": "markdown",
   "metadata": {},
   "source": [
    "If $A=$ `a.mat` is the matrix just assembled, then we want to solve for \n",
    "\n",
    "$$\n",
    "  A (u_0 + u_D) = f \\quad \\Rightarrow \\quad A u_0 = f - A u_D\n",
    "$$\n",
    "\n",
    "or\n",
    "\n",
    "$$\n",
    "  \\left( \\begin{array}{cc} A_{FF} & A_{FD} \\\\ A_{DF} & A_{DD} \\end{array} \\right) \\left( \\begin{array}{c} u_{0,F} \\\\ 0 \\end{array} \\right) = \\left( \\begin{array}{c} {f}_F \\\\ {f}_D \\end{array} \\right) - \\left( \\begin{array}{cc} A_{FF} & A_{FD} \\\\ A_{DF} & A_{DD} \\end{array} \\right) \\left( \\begin{array}{c} u_{D,F} \\\\ u_{D,D} \\end{array} \\right)\n",
    "$$\n",
    "\n",
    "where we have block partitioned using free dofs ($F$) and dirichlet dofs ($D$) as if they were numbered consecutively (which may not be the case in  practice) for ease of presentation.  The first row gives\n",
    "\n",
    "$$\n",
    "A_{FF} u_{0,F} = f_F - [A u_D]_F.\n",
    "$$\n",
    "\n",
    "Since we have already constructed $u_D$, we need to perform \n",
    "these next steps:\n",
    "\n",
    "- Set up the right hand side from $f$ and $u_D$.\n",
    "- Solve a linear system which involves only $A_{FF}$.\n",
    "- Add solution: $u = u_0 + u_D$."
   ]
  },
  {
   "cell_type": "code",
   "execution_count": null,
   "metadata": {},
   "outputs": [],
   "source": [
    "# solve the linear system\n",
    "f.vec.data -= a.mat * gfu.vec\n",
    "gfu.vec.data += a.mat.Inverse(freedofs=fes.FreeDofs()) * f.vec\n",
    "Draw (gfu,mesh,\"gfu\",sd=2)"
   ]
  },
  {
   "cell_type": "markdown",
   "metadata": {},
   "source": [
    "The linear system:"
   ]
  },
  {
   "cell_type": "code",
   "execution_count": null,
   "metadata": {},
   "outputs": [],
   "source": [
    "import scipy.sparse as sp\n",
    "import matplotlib.pyplot as plt\n",
    "\n",
    "A=sp.csr_matrix(a.mat.CSR())\n",
    "plt.figure(figsize=(7,7))\n",
    "plt.spy(A); plt.show()"
   ]
  },
  {
   "cell_type": "code",
   "execution_count": null,
   "metadata": {},
   "outputs": [],
   "source": [
    "print(fes.FreeDofs())"
   ]
  },
  {
   "cell_type": "markdown",
   "metadata": {
    "hideCode": false,
    "hidePrompt": false,
    "slideshow": {
     "slide_type": "slide"
    }
   },
   "source": [
    "### Hands-On-Task 3:\n",
    "1. Solve the PDE problem\n",
    "$$\n",
    " - \\varepsilon \\Delta u + u = 0 \\quad \\text{ on } \\Omega = \\operatorname{conv}((-1,0),(1,0),(0,1))\n",
    "$$\n",
    "with $u = 1$ on $\\{ y = 0\\}$ and $\\nabla u \\cdot n = 0$ on the remainder of the boundary and $\\varepsilon = 0.01$.\n",
    "\n",
    "2. What do you observe? What do you expect for $\\varepsilon =1$ and $\\varepsilon \\to 0$? (Try it out)."
   ]
  },
  {
   "cell_type": "markdown",
   "metadata": {},
   "source": [
    "# Linear solvers"
   ]
  },
  {
   "cell_type": "code",
   "execution_count": null,
   "metadata": {},
   "outputs": [],
   "source": [
    "from ngsolve import solvers\n",
    "from ngsolve.solvers import CG"
   ]
  },
  {
   "cell_type": "markdown",
   "metadata": {},
   "source": [
    "Diagonal preconditioner with filter for `FreeDofs`:"
   ]
  },
  {
   "cell_type": "code",
   "execution_count": null,
   "metadata": {},
   "outputs": [],
   "source": [
    "pre = a.mat.CreateSmoother(fes.FreeDofs())"
   ]
  },
  {
   "cell_type": "code",
   "execution_count": null,
   "metadata": {},
   "outputs": [],
   "source": [
    "gfu.vec.data += CG(mat=a.mat,rhs=f.vec,pre=pre,\n",
    "                  printrates=True, initialize=True)"
   ]
  },
  {
   "cell_type": "markdown",
   "metadata": {},
   "source": [
    "## Hands-On-Task 4:\n",
    "1. Write a Richardson iteration scheme for the iterative solution of $C^{-1} A \\cdot x = C^{-1} f$ where $C = \\operatorname{diag}(A)$.\n",
    "\n",
    "* $x^0$\n",
    "* Loop over k until $k=1000$ (add other stopping criteria if you want)\n",
    "  * $r^k = f - A \\cdot x^k$\n",
    "  * $s^k = C^{-1} r^k$\n",
    "  * $x^{k+1} = x^k + \\omega s^k$\n",
    "  \n",
    "How do you need to choose $\\omega$ to obtain a converging scheme?\n",
    "\n",
    "Hint:\n",
    " * The Jacobi preconditioner $C^{-1}$ can be obtained with\n",
    " ```\n",
    " c = a.mat.CreateSmoother()\n",
    " ```\n",
    " * You can create vectors of the same type as `gfu.vec` with\n",
    " ```\n",
    " res = gfu.vec.CreateVector()\n",
    " ```\n",
    " * Make sure to set Dirichlet dofs to zero when measuring the residual norm $\\Vert f - A \\cdot x^k \\Vert$. For that use\n",
    " ``` \n",
    " res.data = Projector(fes.FreeDofs(),True) * res\n",
    " ```"
   ]
  },
  {
   "cell_type": "code",
   "execution_count": null,
   "metadata": {},
   "outputs": [],
   "source": [
    "gfu.Set(x,definedon=mesh.Boundaries(\"circle\"))\n",
    "#TODO"
   ]
  }
 ],
 "metadata": {
  "hide_code_all_hidden": false,
  "kernelspec": {
   "display_name": "Python 3",
   "language": "python",
   "name": "python3"
  },
  "language_info": {
   "codemirror_mode": {
    "name": "ipython",
    "version": 3
   },
   "file_extension": ".py",
   "mimetype": "text/x-python",
   "name": "python",
   "nbconvert_exporter": "python",
   "pygments_lexer": "ipython3",
   "version": "3.8.2"
  },
  "rise": {
   "enable_chalkboard": true
  },
  "toc": {
   "base_numbering": 1,
   "nav_menu": {},
   "number_sections": true,
   "sideBar": true,
   "skip_h1_title": false,
   "title_cell": "Table of Contents",
   "title_sidebar": "Contents",
   "toc_cell": false,
   "toc_position": {},
   "toc_section_display": true,
   "toc_window_display": false
  }
 },
 "nbformat": 4,
 "nbformat_minor": 4
}
