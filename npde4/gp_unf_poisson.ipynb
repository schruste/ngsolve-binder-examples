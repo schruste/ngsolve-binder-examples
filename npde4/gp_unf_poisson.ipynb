{
 "cells": [
  {
   "cell_type": "markdown",
   "metadata": {},
   "source": [
    "In this example we solve a scalar *unfitted* PDE problem. As a\n",
    "discretisation method we use a level set based geometry description and\n",
    "a Cut (or Fictitious) Finite element method with a Nitsche formulation\n",
    "to impose boundary conditions. For stability we add a ghost penalty\n",
    "stabilization. See also https://github.com/ngsxfem/ngsxfem/blob/release/demos/fictdom.py"
   ]
  },
  {
   "cell_type": "markdown",
   "metadata": {},
   "source": [
    "## Imports"
   ]
  },
  {
   "cell_type": "code",
   "execution_count": null,
   "metadata": {},
   "outputs": [],
   "source": [
    "from netgen.geom2d import SplineGeometry\n",
    "from ngsolve import *\n",
    "from ngsolve.internal import *\n",
    "from xfem import *"
   ]
  },
  {
   "cell_type": "markdown",
   "metadata": {},
   "source": [
    "## basic parameters"
   ]
  },
  {
   "cell_type": "code",
   "execution_count": null,
   "metadata": {},
   "outputs": [],
   "source": [
    "# Mesh diameter\n",
    "maxh = 0.2\n",
    "# Finite element space order\n",
    "order = 1\n",
    "# Stabilization parameter for ghost-penalty\n",
    "gamma_stab = 0.1\n",
    "# Stabilization parameter for Nitsche\n",
    "lambda_nitsche = 10 * order * order"
   ]
  },
  {
   "cell_type": "markdown",
   "metadata": {},
   "source": [
    "## background mesh"
   ]
  },
  {
   "cell_type": "code",
   "execution_count": null,
   "metadata": {},
   "outputs": [],
   "source": [
    "# Geometry and Mesh\n",
    "square = SplineGeometry()\n",
    "square.AddRectangle((-1.25, -1.25), (1.25, 1.25), bc=1)\n",
    "ngmesh = square.GenerateMesh(maxh=maxh)\n",
    "mesh = Mesh(ngmesh)"
   ]
  },
  {
   "cell_type": "markdown",
   "metadata": {},
   "source": [
    "## exact levelset and data"
   ]
  },
  {
   "cell_type": "code",
   "execution_count": null,
   "metadata": {},
   "outputs": [],
   "source": [
    "r = sqrt(x**2 + y**2)\n",
    "levelset = r-1\n",
    "\n",
    "exact = sin(x+y)\n",
    "coeff_f = - (exact.Diff(x).Diff(x) + exact.Diff(y).Diff(y)).Compile()"
   ]
  },
  {
   "cell_type": "markdown",
   "metadata": {},
   "source": [
    "## level set approximation\n",
    "The level set function has to be approximated to allow for realizable quadrature."
   ]
  },
  {
   "cell_type": "code",
   "execution_count": null,
   "metadata": {},
   "outputs": [],
   "source": [
    "lsetp1 = GridFunction(H1(mesh))\n",
    "InterpolateToP1(levelset,lsetp1)"
   ]
  },
  {
   "cell_type": "markdown",
   "metadata": {},
   "source": [
    "## Marking the active part of the mesh (and the cut elements)"
   ]
  },
  {
   "cell_type": "code",
   "execution_count": null,
   "metadata": {},
   "outputs": [],
   "source": [
    "# Element, facet and dof marking w.r.t. boundary approximation with lsetp1:\n",
    "ci = CutInfo(mesh, lsetp1)\n",
    "hasneg = ci.GetElementsOfType(HASNEG)\n",
    "hasif = ci.GetElementsOfType(IF)"
   ]
  },
  {
   "cell_type": "markdown",
   "metadata": {},
   "source": [
    "## Marking all facets used to stabilize with ghost penalties"
   ]
  },
  {
   "cell_type": "code",
   "execution_count": null,
   "metadata": {},
   "outputs": [],
   "source": [
    "# facets used for stabilization:\n",
    "ba_facets = GetFacetsWithNeighborTypes(mesh, a=hasneg, b=hasif)"
   ]
  },
  {
   "cell_type": "markdown",
   "metadata": {},
   "source": [
    "## Restricted FESpace"
   ]
  },
  {
   "cell_type": "code",
   "execution_count": null,
   "metadata": {},
   "outputs": [],
   "source": [
    "Vhbase = H1(mesh, order=order, dirichlet=[], dgjumps=True)\n",
    "Vh = Restrict(Vhbase, hasneg)\n",
    "gfu = GridFunction(Vh)"
   ]
  },
  {
   "cell_type": "markdown",
   "metadata": {},
   "source": [
    "## Symbols for the definition of the discrete variational formulation"
   ]
  },
  {
   "cell_type": "code",
   "execution_count": null,
   "metadata": {},
   "outputs": [],
   "source": [
    "u, v = Vh.TrialFunction(), Vh.TestFunction()\n",
    "h = specialcf.mesh_size\n",
    "n = Normalize(grad(lsetp1))\n",
    "\n",
    "# integration domains:\n",
    "dx = dCut(lsetp1, NEG, definedonelements=hasneg)\n",
    "ds = dCut(lsetp1, IF, definedonelements=hasif)\n",
    "dw = dFacetPatch(definedonelements=ba_facets)"
   ]
  },
  {
   "cell_type": "markdown",
   "metadata": {},
   "source": [
    "## the discrete variational formulation"
   ]
  },
  {
   "cell_type": "code",
   "execution_count": null,
   "metadata": {},
   "outputs": [],
   "source": [
    "a = BilinearForm(Vh, symmetric=True)\n",
    "# Diffusion term\n",
    "a += grad(u) * grad(v) * dx\n",
    "# Nitsche term\n",
    "a += -grad(u) * n * v * ds\n",
    "a += -grad(v) * n * u * ds\n",
    "a += (lambda_nitsche / h) * u * v * ds\n",
    "# Ghost penalty stabilization (near the boundary)\n",
    "a += gamma_stab / h**2 * (u - u.Other()) * (v - v.Other()) * dw\n",
    "\n",
    "# R.h.s. term:\n",
    "f = LinearForm(Vh)\n",
    "f += coeff_f * v * dx\n",
    "f += exact * (-grad(v) * n + (lambda_nitsche / h) * v) * ds"
   ]
  },
  {
   "cell_type": "markdown",
   "metadata": {},
   "source": [
    "## Setup and solution of linear systems"
   ]
  },
  {
   "cell_type": "code",
   "execution_count": null,
   "metadata": {},
   "outputs": [],
   "source": [
    "# Assemble system\n",
    "a.Assemble()\n",
    "f.Assemble()\n",
    "\n",
    "# Solve linear system\n",
    "gfu.vec.data = a.mat.Inverse(Vh.FreeDofs(),inverse=\"sparsecholesky\") * f.vec"
   ]
  },
  {
   "cell_type": "markdown",
   "metadata": {},
   "source": [
    "## Error evaluation"
   ]
  },
  {
   "cell_type": "code",
   "execution_count": null,
   "metadata": {},
   "outputs": [],
   "source": [
    "# Measure the error\n",
    "l2error = sqrt(Integrate((gfu - exact)**2*dx, mesh))\n",
    "print(\"L2 Error: {0}\".format(l2error))"
   ]
  },
  {
   "cell_type": "markdown",
   "metadata": {},
   "source": [
    "## Visualization of the solution"
   ]
  },
  {
   "cell_type": "code",
   "execution_count": null,
   "metadata": {},
   "outputs": [],
   "source": [
    "# visualization:\n",
    "DrawDC(lsetp1, gfu, 0, mesh, \"uh\")\n"
   ]
  }
 ],
 "metadata": {
  "kernelspec": {
   "display_name": "Python 3",
   "language": "python",
   "name": "python3"
  },
  "language_info": {
   "codemirror_mode": {
    "name": "ipython",
    "version": 3
   },
   "file_extension": ".py",
   "mimetype": "text/x-python",
   "name": "python",
   "nbconvert_exporter": "python",
   "pygments_lexer": "ipython3",
   "version": "3.9.3"
  },
  "toc": {
   "base_numbering": 1,
   "nav_menu": {},
   "number_sections": true,
   "sideBar": true,
   "skip_h1_title": false,
   "title_cell": "Table of Contents",
   "title_sidebar": "Contents",
   "toc_cell": false,
   "toc_position": {},
   "toc_section_display": true,
   "toc_window_display": false
  }
 },
 "nbformat": 4,
 "nbformat_minor": 4
}
