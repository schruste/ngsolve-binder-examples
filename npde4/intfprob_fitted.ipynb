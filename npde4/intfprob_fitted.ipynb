{
 "cells": [
  {
   "cell_type": "code",
   "execution_count": null,
   "metadata": {},
   "outputs": [],
   "source": [
    "from ngsolve import *\n",
    "from draw import Draw\n",
    "from netgen.geom2d import CSG2d, Circle, Rectangle"
   ]
  },
  {
   "cell_type": "code",
   "execution_count": null,
   "metadata": {},
   "outputs": [],
   "source": [
    "circle_large = Circle( center=(0,0), radius=1.0, mat=\"outer\", bc=\"bc_outer\" )\n",
    "circle_inner = Circle( center=(0,0), radius=0.5, mat=\"inner\", bc=\"bc_inner\" )\n",
    "ring = circle_large - circle_inner\n",
    "geo = CSG2d()\n",
    "geo.Add(circle_inner)\n",
    "geo.Add(ring)\n",
    "\n",
    "mesh = Mesh(geo.GenerateMesh(maxh=0.2))\n",
    "mesh.Curve(2)\n",
    "fes = H1(mesh, order=2, dirichlet=\"bc_outer\")\n",
    "cf = mesh.RegionCF(VOL, dict(inner=0, outer=1))\n",
    "Draw(cf, mesh)"
   ]
  },
  {
   "cell_type": "code",
   "execution_count": null,
   "metadata": {},
   "outputs": [],
   "source": [
    "r = sqrt(x*x+y*y)\n",
    "alpha = mesh.RegionCF(VOL, dict(inner=1, outer=2))\n",
    "u_exact = mesh.RegionCF(VOL, dict(inner=-0.25*r**2-1/16*(log(0.5)-1), outer=-1/16*log(r)))\n",
    "coef_f = mesh.RegionCF(VOL, dict(inner=1, outer=0))\n",
    "Draw(u_exact,mesh)"
   ]
  },
  {
   "cell_type": "code",
   "execution_count": null,
   "metadata": {},
   "outputs": [],
   "source": [
    "gfu = GridFunction(fes)  # solution \n",
    "u, v = fes.TnT()"
   ]
  },
  {
   "cell_type": "code",
   "execution_count": null,
   "metadata": {},
   "outputs": [],
   "source": [
    "a = BilinearForm(fes, symmetric=True)\n",
    "a += alpha * grad(u)*grad(v)*dx\n",
    "\n",
    "f = LinearForm(fes)\n",
    "f += coef_f*v*dx"
   ]
  },
  {
   "cell_type": "code",
   "execution_count": null,
   "metadata": {},
   "outputs": [],
   "source": [
    "a.Assemble()\n",
    "f.Assemble()"
   ]
  },
  {
   "cell_type": "code",
   "execution_count": null,
   "metadata": {},
   "outputs": [],
   "source": [
    "gfu.vec.data =     a.mat.Inverse(freedofs=fes.FreeDofs(),inverse=\"sparsecholesky\") * f.vec"
   ]
  },
  {
   "cell_type": "code",
   "execution_count": null,
   "metadata": {},
   "outputs": [],
   "source": [
    "Draw(gfu, mesh, \"gfu\")"
   ]
  }
 ],
 "metadata": {
  "kernelspec": {
   "display_name": "Python 3",
   "language": "python",
   "name": "python3"
  },
  "language_info": {
   "codemirror_mode": {
    "name": "ipython",
    "version": 3
   },
   "file_extension": ".py",
   "mimetype": "text/x-python",
   "name": "python",
   "nbconvert_exporter": "python",
   "pygments_lexer": "ipython3",
   "version": "3.9.3"
  },
  "livereveal": {
   "autolaunch": true
  },
  "toc": {
   "base_numbering": 1,
   "nav_menu": {},
   "number_sections": true,
   "sideBar": true,
   "skip_h1_title": false,
   "title_cell": "Table of Contents",
   "title_sidebar": "Contents",
   "toc_cell": false,
   "toc_position": {},
   "toc_section_display": true,
   "toc_window_display": false
  }
 },
 "nbformat": 4,
 "nbformat_minor": 4
}
