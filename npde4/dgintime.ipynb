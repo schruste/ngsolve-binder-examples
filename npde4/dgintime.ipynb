{
 "cells": [
  {
   "cell_type": "markdown",
   "metadata": {},
   "source": [
    "In this example we solve a fitted parabolic PDE  with a discontinuous Galerkin variational time discretization."
   ]
  },
  {
   "cell_type": "markdown",
   "metadata": {},
   "source": [
    "## Imports"
   ]
  },
  {
   "cell_type": "code",
   "execution_count": null,
   "metadata": {},
   "outputs": [],
   "source": [
    "from netgen.geom2d import unit_square\n",
    "from ngsolve import *\n",
    "from xfem import *\n",
    "from math import pi\n",
    "ngsglobals.msg_level = 1"
   ]
  },
  {
   "cell_type": "markdown",
   "metadata": {},
   "source": [
    "## basic parameters"
   ]
  },
  {
   "cell_type": "code",
   "execution_count": null,
   "metadata": {},
   "outputs": [],
   "source": [
    "# Space finite element order\n",
    "order = 4\n",
    "# Time finite element order\n",
    "k_t = 2\n",
    "# Final simulation time\n",
    "tend = 1.0\n",
    "# Time step\n",
    "delta_t = 1 / 4"
   ]
  },
  {
   "cell_type": "markdown",
   "metadata": {},
   "source": [
    "## background mesh"
   ]
  },
  {
   "cell_type": "code",
   "execution_count": null,
   "metadata": {},
   "outputs": [],
   "source": [
    "from ngsolve.meshes import *\n",
    "mesh = Make1DMesh(5000)"
   ]
  },
  {
   "cell_type": "markdown",
   "metadata": {},
   "source": [
    "## Space-Time FESpace"
   ]
  },
  {
   "cell_type": "code",
   "execution_count": null,
   "metadata": {},
   "outputs": [],
   "source": [
    "V = H1(mesh, order=order, dirichlet=\".*\")\n",
    "tfe = ScalarTimeFE(k_t)\n",
    "st_fes = tfe * V"
   ]
  },
  {
   "cell_type": "markdown",
   "metadata": {},
   "source": [
    "## Data"
   ]
  },
  {
   "cell_type": "code",
   "execution_count": null,
   "metadata": {},
   "outputs": [],
   "source": [
    "tnew = 0\n",
    "told = Parameter(0)\n",
    "t = told + delta_t * tref\n",
    "\n",
    "u_exact = sin(pi * t) * sin(pi * x)\n",
    "\n",
    "coeff_f = u_exact.Diff(t) - u_exact.Diff(x).Diff(x)\n",
    "coeff_f = coeff_f.Compile()\n"
   ]
  },
  {
   "cell_type": "markdown",
   "metadata": {},
   "source": [
    "## Symbols for the definition of the discrete variational formulation"
   ]
  },
  {
   "cell_type": "code",
   "execution_count": null,
   "metadata": {},
   "outputs": [],
   "source": [
    "gfu = GridFunction(st_fes)\n",
    "u_last = CreateTimeRestrictedGF(gfu, 1)\n",
    "u, v = st_fes.TnT()\n",
    "\n",
    "dxt = delta_t * dxtref(mesh, time_order=2*k_t+2)\n",
    "dxold = dmesh(mesh, tref=0)\n",
    "dxnew = dmesh(mesh, tref=1)\n",
    "def dt(u):\n",
    "    return 1.0 / delta_t * dtref(u)"
   ]
  },
  {
   "cell_type": "markdown",
   "metadata": {},
   "source": [
    "## the discrete variational formulation"
   ]
  },
  {
   "cell_type": "code",
   "execution_count": null,
   "metadata": {},
   "outputs": [],
   "source": [
    "a = BilinearForm(st_fes, symmetric=False)\n",
    "a += grad(u) * grad(v) * dxt\n",
    "a += u * v * dxold\n",
    "a += dt(u) * v * dxt\n",
    "a.Assemble()\n",
    "ainv = a.mat.Inverse(st_fes.FreeDofs(), \"umfpack\")\n",
    "\n",
    "f = LinearForm(st_fes)\n",
    "f += coeff_f * v * dxt\n",
    "f += u_last * v * dxold"
   ]
  },
  {
   "cell_type": "markdown",
   "metadata": {},
   "source": [
    "## Setup and solution of linear systems"
   ]
  },
  {
   "cell_type": "code",
   "execution_count": null,
   "metadata": {},
   "outputs": [],
   "source": [
    "u_last.Set(fix_tref(u_exact, 0))\n",
    "Draw(u_last, mesh, \"u\")\n",
    "\n",
    "while tend - told.Get() > delta_t / 2:\n",
    "    f.Assemble()\n",
    "    gfu.vec.data = ainv * f.vec\n",
    "    RestrictGFInTime(spacetime_gf=gfu, reference_time=1.0, space_gf=u_last)\n",
    "    l2error = sqrt(Integrate((u_exact - gfu)**2 * dxnew, mesh))\n",
    "    Redraw()\n",
    "    told.Set(told.Get() + delta_t)\n",
    "    print(\"\\rt = {0:12.9f}, L2 error = {1:12.9e}\".format(told.Get(), l2error))"
   ]
  }
 ],
 "metadata": {
  "kernelspec": {
   "display_name": "Python 3",
   "language": "python",
   "name": "python3"
  },
  "language_info": {
   "codemirror_mode": {
    "name": "ipython",
    "version": 3
   },
   "file_extension": ".py",
   "mimetype": "text/x-python",
   "name": "python",
   "nbconvert_exporter": "python",
   "pygments_lexer": "ipython3",
   "version": "3.9.3"
  },
  "toc": {
   "base_numbering": 1,
   "nav_menu": {},
   "number_sections": true,
   "sideBar": true,
   "skip_h1_title": false,
   "title_cell": "Table of Contents",
   "title_sidebar": "Contents",
   "toc_cell": false,
   "toc_position": {},
   "toc_section_display": true,
   "toc_window_display": false
  }
 },
 "nbformat": 4,
 "nbformat_minor": 4
}
