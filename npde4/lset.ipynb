{
 "cells": [
  {
   "cell_type": "code",
   "execution_count": null,
   "metadata": {},
   "outputs": [],
   "source": [
    "from ngsolve import *\n",
    "from draw import Draw\n",
    "from netgen.geom2d import unit_square"
   ]
  },
  {
   "cell_type": "code",
   "execution_count": null,
   "metadata": {},
   "outputs": [],
   "source": [
    "mesh = Mesh(unit_square.GenerateMesh(maxh=0.1))\n",
    "fes = L2(mesh, order=2, dirichlet=\"bottom|right\")\n",
    "Draw(mesh)"
   ]
  },
  {
   "cell_type": "code",
   "execution_count": null,
   "metadata": {},
   "outputs": [],
   "source": [
    "gfu = GridFunction(fes)  # solution \n",
    "u, v = fes.TnT()"
   ]
  },
  {
   "cell_type": "code",
   "execution_count": null,
   "metadata": {},
   "outputs": [],
   "source": [
    "wind = CoefficientFunction((y-0.5,0.5-x))\n",
    "#wind = 0.25*Normalize(wind)"
   ]
  },
  {
   "cell_type": "code",
   "execution_count": null,
   "metadata": {},
   "outputs": [],
   "source": [
    "#u0 = exp (-40 * ( (x-0.75)*(x-0.75) + (y-0.5)*(y-0.5) ))\n",
    "u0 = sqrt( (x-0.75)*(x-0.75) + (y-0.5)*(y-0.5) ) - 0.1"
   ]
  },
  {
   "cell_type": "code",
   "execution_count": null,
   "metadata": {},
   "outputs": [],
   "source": [
    "n = specialcf.normal(mesh.dim)\n",
    "wn = wind*n\n",
    "\n",
    "c = BilinearForm(fes,nonassemble=True)\n",
    "c += wind * grad(u) * v * dx + wn*(u.Other(bnd=u)-u)*IfPos(wn,0,v) * dx(element_boundary=True)"
   ]
  },
  {
   "cell_type": "code",
   "execution_count": null,
   "metadata": {},
   "outputs": [],
   "source": [
    "gfu.Set(u0)\n",
    "scene = Draw (gfu, mesh, \"u\", min=-0.1, max=0.7, autoscale=False)"
   ]
  },
  {
   "cell_type": "code",
   "execution_count": null,
   "metadata": {},
   "outputs": [],
   "source": [
    "gfu.Set(u0)\n",
    "from math import pi\n",
    "t = 0\n",
    "tau = 5e-4\n",
    "tend = pi\n",
    "\n",
    "F = fes.InvM() @ c.mat\n",
    "\n",
    "cnt = 0\n",
    "with TaskManager():\n",
    "    while t < tend:\n",
    "        gfu.vec.data -= tau * F * gfu.vec\n",
    "        t += tau\n",
    "        if cnt % 100 == 0:\n",
    "            print(\"\\r\",t,end=\"\")\n",
    "            scene.Redraw()\n",
    "        cnt += 1"
   ]
  }
 ],
 "metadata": {
  "kernelspec": {
   "display_name": "Python 3",
   "language": "python",
   "name": "python3"
  },
  "language_info": {
   "codemirror_mode": {
    "name": "ipython",
    "version": 3
   },
   "file_extension": ".py",
   "mimetype": "text/x-python",
   "name": "python",
   "nbconvert_exporter": "python",
   "pygments_lexer": "ipython3",
   "version": "3.9.2"
  },
  "livereveal": {
   "autolaunch": true
  },
  "toc": {
   "base_numbering": 1,
   "nav_menu": {},
   "number_sections": true,
   "sideBar": true,
   "skip_h1_title": false,
   "title_cell": "Table of Contents",
   "title_sidebar": "Contents",
   "toc_cell": false,
   "toc_position": {},
   "toc_section_display": true,
   "toc_window_display": false
  }
 },
 "nbformat": 4,
 "nbformat_minor": 4
}
