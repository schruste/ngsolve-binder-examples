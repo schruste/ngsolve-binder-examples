{
 "cells": [
  {
   "cell_type": "markdown",
   "metadata": {
    "slideshow": {
     "slide_type": "subslide"
    }
   },
   "source": [
    "# Finite volume solver for the acoustic wave equations"
   ]
  },
  {
   "cell_type": "markdown",
   "metadata": {},
   "source": [
    "## A linear system of conservation laws: The acoustic wave equation\n",
    "We consider the acoustic problem\n",
    "\\begin{align} \n",
    "      \\partial_{t} p  +  c \\operatorname{div}(\\mathbf{q}) &= 0 \\quad \\text{ in } \\Omega \\times I = (0,1)^2 \\times (0,T), \\\\\n",
    "      \\partial_{t} \\mathbf{q}  +  c \\nabla p &= 0 \\quad \\text{ in } \\Omega \\times I = (0,1)^2 \\times (0,T), \\\\\n",
    "%      p (0,\\cdot) &= p(1,\\cdot), \\quad\n",
    "%      p (\\cdot,0) = p(\\cdot,1), \\label{eq:per2b}\\\\\n",
    "%      \\mathbf{q} (0,\\cdot) &= \\mathbf{q}(1,\\cdot), \\quad\n",
    "%      \\mathbf{q} (\\cdot,0) = \\mathbf{q}(\\cdot,1), \\label{eq:per2bb}\\\\\n",
    "      p &= p_0 \\quad \\text{ on } \\Omega \\times \\{0\\},\\\\\n",
    "      q &= 0 \\quad \\text{ on } \\Omega \\times \\{0\\}.\n",
    "\\end{align}\n",
    "Here $p$ is the acoustic pressure (the local deviation from the ambient pressure) and $\\mathbf{q}$ is the local velocity. \n",
    "\n",
    "Boundary conditions are specified below."
   ]
  },
  {
   "cell_type": "markdown",
   "metadata": {},
   "source": [
    "The problem can be written as a system of conservation laws\n",
    "\n",
    "$$\n",
    "  \\partial_t \\mathbf{U} + \\operatorname{div}(\\mathbf{F}(\\mathbf{U})) = 0 \\qquad in \\qquad \\Omega \\times[0,T]\n",
    "$$\n",
    "\n",
    "where \n",
    "* $\\mathbf{U} = (p,\\mathbf{q}) = (p,q_1,q_2)$ is the state variable \n",
    "* and $\\mathbf{F}(\\mathbf{U}) = (\\mathbf{f}_1(\\mathbf{U}),\\mathbf{f}_2(\\mathbf{U}))$ where $\\mathbf{f}_i(\\mathbf{U})$ are the fluxes in coordinate directions $i$ (see excercise)."
   ]
  },
  {
   "cell_type": "markdown",
   "metadata": {},
   "source": [
    "## Prerequisites (libraries and helper functions)\n",
    "We start loading several libraries:"
   ]
  },
  {
   "cell_type": "code",
   "execution_count": null,
   "metadata": {},
   "outputs": [],
   "source": [
    "from math import pi\n",
    "from ngsolve import *\n",
    "from netgen.geom2d import SplineGeometry\n",
    "ngsglobals.msg_level = 1\n",
    "from ngsolve.meshes import *\n",
    "from draw import *\n",
    "#from netgen import gui\n",
    "#from ngsolve import *"
   ]
  },
  {
   "cell_type": "markdown",
   "metadata": {},
   "source": [
    "We may need function for absolute value and maxima computations on `CoefficientFunctions` which we compose with the `IfPos` function:"
   ]
  },
  {
   "cell_type": "code",
   "execution_count": null,
   "metadata": {},
   "outputs": [],
   "source": [
    "def Abs(u):\n",
    "    return IfPos(u,u,-u)\n",
    "\n",
    "def Max(u,v):\n",
    "    return IfPos(u-v,u,v)"
   ]
  },
  {
   "cell_type": "markdown",
   "metadata": {},
   "source": [
    "## The mesh\n",
    "For the mesh we take a N(xN) mesh. The time step is manually adjusted to provide stability in the sense of a CFL condition:"
   ]
  },
  {
   "cell_type": "code",
   "execution_count": null,
   "metadata": {},
   "outputs": [],
   "source": [
    "N=40\n",
    "mesh = MakeStructured2DMesh(nx=N,ny=N,quads=True,periodic_x=True,periodic_y=True)\n",
    "dt=0.5/N"
   ]
  },
  {
   "cell_type": "code",
   "execution_count": null,
   "metadata": {},
   "outputs": [],
   "source": [
    "dim = mesh.dim+1"
   ]
  },
  {
   "cell_type": "markdown",
   "metadata": {},
   "source": [
    "## A simple finite volume solver"
   ]
  },
  {
   "cell_type": "markdown",
   "metadata": {},
   "source": [
    "We can now define a very simple finite volume solver based on:\n",
    " * a flux function $F$,\n",
    " * a numerical flux function $\\hat{f}_n$,\n",
    " * initial values $u_0$,\n",
    " * a mesh and\n",
    " * a time step for an explicit Euler discretization.\n",
    " \n",
    "Let $u_T$ be the constant corresponding to one element. Then the scheme reads as\n",
    "\n",
    "$$\n",
    "u_T^{n+1} = u_{T}^n - \\frac{\\Delta t}{|T|} \\sum_{K \\in \\partial T} \n",
    "\\hat{f}_{K,n}(u_T,u_{T'},n_K) |K|\n",
    "$$\n",
    "    "
   ]
  },
  {
   "cell_type": "markdown",
   "metadata": {},
   "source": [
    "This, together with some plotting at $t = 0,0.1,..,0.5$ is done in the following function:"
   ]
  },
  {
   "cell_type": "code",
   "execution_count": null,
   "metadata": {},
   "outputs": [],
   "source": [
    "W = L2(mesh,order=0,dim=dim)\n",
    "def Solve(F, fhatn, u0, mesh, dt):\n",
    "    gfu=GridFunction(W)\n",
    "    U,V = W.TnT()\n",
    "    a = BilinearForm (W, nonassemble=True)\n",
    "    a += InnerProduct(fhatn(F,U,U.Other(),specialcf.normal(mesh.dim)),V) * dx(element_boundary=True)\n",
    "    t=0\n",
    "\n",
    "    gfu.Set(u0)\n",
    "\n",
    "    Ts = [0.5]\n",
    "    i = 0\n",
    "    for T in Ts:\n",
    "        while t < T-dt/2:\n",
    "            gfu.vec.data -= dt * W.InvM() @ a.mat * gfu.vec\n",
    "            t += dt\n",
    "            i += 1\n",
    "            Redraw()\n",
    "        Draw(gfu[0],mesh,\"u\")\n",
    "    print(i,\"steps\")\n",
    "    return gfu"
   ]
  },
  {
   "cell_type": "markdown",
   "metadata": {},
   "source": [
    "## The flux function and boundary condition of the problem"
   ]
  },
  {
   "cell_type": "code",
   "execution_count": null,
   "metadata": {},
   "outputs": [],
   "source": [
    "c = 1 # speed of propagation\n",
    "def F(U):\n",
    "    p, q1, q2 = U   # unpack the state vector\n",
    "    return None # TODO"
   ]
  },
  {
   "cell_type": "markdown",
   "metadata": {},
   "source": [
    "As initial values we load data from the provided file:"
   ]
  },
  {
   "cell_type": "code",
   "execution_count": null,
   "metadata": {
    "scrolled": true
   },
   "outputs": [],
   "source": [
    "import pickle\n",
    "U0 = pickle.load (open(\"nicholas.pickle\", \"rb\"))  \n",
    "Draw(U0[0],mesh,\"u\",min=-1,max=1)\n",
    "Draw(U0[1],mesh,\"u\",min=-1,max=1)\n",
    "Draw(U0[2],mesh,\"u\",min=-1,max=1)    "
   ]
  },
  {
   "cell_type": "markdown",
   "metadata": {},
   "source": [
    "## numerical examples"
   ]
  },
  {
   "cell_type": "markdown",
   "metadata": {},
   "source": [
    "### A discretization with a Lax-Friedrichs flux"
   ]
  },
  {
   "cell_type": "code",
   "execution_count": null,
   "metadata": {
    "scrolled": false
   },
   "outputs": [],
   "source": [
    "def fhatn_LF(F,u1,u2,n):\n",
    "    return None #TODO"
   ]
  },
  {
   "cell_type": "code",
   "execution_count": null,
   "metadata": {
    "scrolled": false
   },
   "outputs": [],
   "source": [
    "gfu = Solve(F,fhatn_LF, U0, mesh, dt)"
   ]
  }
 ],
 "metadata": {
  "kernelspec": {
   "display_name": "Python 3",
   "language": "python",
   "name": "python3"
  },
  "language_info": {
   "codemirror_mode": {
    "name": "ipython",
    "version": 3
   },
   "file_extension": ".py",
   "mimetype": "text/x-python",
   "name": "python",
   "nbconvert_exporter": "python",
   "pygments_lexer": "ipython3",
   "version": "3.8.6"
  },
  "toc": {
   "base_numbering": 1,
   "nav_menu": {},
   "number_sections": true,
   "sideBar": true,
   "skip_h1_title": false,
   "title_cell": "Table of Contents",
   "title_sidebar": "Contents",
   "toc_cell": false,
   "toc_position": {},
   "toc_section_display": true,
   "toc_window_display": false
  }
 },
 "nbformat": 4,
 "nbformat_minor": 4
}
