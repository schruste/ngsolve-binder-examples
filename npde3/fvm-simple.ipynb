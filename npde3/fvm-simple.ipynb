{
 "cells": [
  {
   "cell_type": "markdown",
   "metadata": {},
   "source": [
    "# Simple finite volume solver"
   ]
  },
  {
   "cell_type": "markdown",
   "metadata": {},
   "source": [
    "## Prerequisites (libraries and helper functions)\n",
    "We start loading several libraries:"
   ]
  },
  {
   "cell_type": "code",
   "execution_count": null,
   "metadata": {},
   "outputs": [],
   "source": [
    "from math import pi\n",
    "from ngsolve import *\n",
    "from netgen.geom2d import SplineGeometry\n",
    "ngsglobals.msg_level = 1\n",
    "from ngsolve.meshes import *\n",
    "#from draw import Draw\n"
   ]
  },
  {
   "cell_type": "markdown",
   "metadata": {},
   "source": [
    "We may need function for absolute value and maxima computations on `CoefficientFunctions` which we compose with the `IfPos` function:"
   ]
  },
  {
   "cell_type": "code",
   "execution_count": null,
   "metadata": {},
   "outputs": [],
   "source": [
    "def Abs(u):\n",
    "    return IfPos(u,u,-u)\n",
    "\n",
    "def Max(u,v):\n",
    "    return IfPos(u-v,u,v)"
   ]
  },
  {
   "cell_type": "markdown",
   "metadata": {},
   "source": [
    "For drawing 1D Plots on cross sections of the mesh we introduce a helper function that assumes a regular mesh with $N$ elements in x-direction:"
   ]
  },
  {
   "cell_type": "code",
   "execution_count": null,
   "metadata": {},
   "outputs": [],
   "source": [
    "def DrawOnCrossSection(gfu,N):    \n",
    "    import matplotlib.pyplot as plt\n",
    "    from numpy import nan\n",
    "    eps = 1e-6\n",
    "    x_s=[]\n",
    "    y_s=[]\n",
    "    mesh = gfu.space.mesh\n",
    "    for i in range(N):\n",
    "        x_s.append(i/N)\n",
    "        y_s.append(gfu(mesh(i/N+eps,0.5)))\n",
    "        x_s.append((i+1)/N)\n",
    "        y_s.append(gfu(mesh((i+1)/N-eps,0.5)))\n",
    "        x_s.append(nan)\n",
    "        y_s.append(nan)\n",
    "    plt.plot(x_s,y_s,label=\"u\")\n",
    "    plt.show()"
   ]
  },
  {
   "cell_type": "markdown",
   "metadata": {},
   "source": [
    "Here is an example of a corresponding mesh and a piecewise constant function defined on that mesh:"
   ]
  },
  {
   "cell_type": "code",
   "execution_count": null,
   "metadata": {},
   "outputs": [],
   "source": [
    "mesh = MakeStructured2DMesh(nx=10,ny=1,quads=True,periodic_x=True,periodic_y=True)\n",
    "PC = L2(mesh,order=0)\n",
    "gfdrawtest = GridFunction(PC)\n",
    "gfdrawtest.Set(sin(2*pi*x))\n",
    "DrawOnCrossSection(gfdrawtest,10)"
   ]
  },
  {
   "cell_type": "markdown",
   "metadata": {},
   "source": [
    "## A simple finite volume solver"
   ]
  },
  {
   "cell_type": "markdown",
   "metadata": {},
   "source": [
    "We can now define a very simple finite volume solver based on:\n",
    " * a flux function $F$,\n",
    " * a numerical flux function $\\hat{f}_n$,\n",
    " * initial values $u_0$,\n",
    " * boundary data (if needed),\n",
    " * a mesh and\n",
    " * a time step for an explicit Euler discretization.\n",
    " \n",
    "Let $u_T$ be the constant corresponding to one element. Then the scheme reads as\n",
    "\n",
    "$$\n",
    "u_T^{n+1} = u_{T}^n - \\frac{\\Delta t}{|T|} \\sum_{K \\in \\partial T} \n",
    "\\hat{f}_{K,n}(u_T,u_{T'},n_K) |K|\n",
    "$$\n",
    "    "
   ]
  },
  {
   "cell_type": "markdown",
   "metadata": {},
   "source": [
    "This, together with some plotting at $t = 0,0.1,..,0.5$ is done in the following function:"
   ]
  },
  {
   "cell_type": "code",
   "execution_count": null,
   "metadata": {},
   "outputs": [],
   "source": [
    "def Solve(F, fhatn, u0, ubnd, mesh, dt):\n",
    "    V = L2(mesh,order=0)\n",
    "    gfu=GridFunction(V)\n",
    "    u,v = V.TnT()\n",
    "    # definition of the \"bilinear\" form\n",
    "    # Note: It -- despite its name -- does not need to be linear in the first argument!\n",
    "    a = BilinearForm (V, nonassemble=True)\n",
    "    a += fhatn(u,u.Other(ubnd),specialcf.normal(mesh.dim)) * v * dx(element_boundary=True)\n",
    "    Draw(gfu,mesh,\"u\",sd=0)\n",
    "    t=0\n",
    "\n",
    "    gfu.Set(u0)\n",
    "    intu0 = Integrate(gfu,mesh,order=0)\n",
    "    DrawOnCrossSection(gfu,mesh.ne)\n",
    "    \n",
    "    Ts = [0.1,0.2,0.3,0.4,0.5]\n",
    "    for T in Ts:\n",
    "        while t < T-dt/2:\n",
    "            gfu.vec.data -= dt * V.InvM() @ a.mat * gfu.vec\n",
    "            t += dt\n",
    "            Redraw()\n",
    "        print(\"t = \", t, \"conservation error: \", abs(Integrate(gfu,mesh,order=0)-intu0))\n",
    "        DrawOnCrossSection(gfu,mesh.ne)"
   ]
  },
  {
   "cell_type": "markdown",
   "metadata": {},
   "source": [
    "## The problem\n",
    "As the model problem here we consider a trivial extension of the Burgers equation to 2D (where only the flux in x-direction is non-trivial):\n",
    "$$\n",
    "F(u(x,y,t)) = (\\frac12 u^2, 0)^T\n",
    "$$"
   ]
  },
  {
   "cell_type": "code",
   "execution_count": null,
   "metadata": {},
   "outputs": [],
   "source": [
    "def F(u):\n",
    "    return CoefficientFunction((0.5*u**2,0))"
   ]
  },
  {
   "cell_type": "markdown",
   "metadata": {},
   "source": [
    "The domain will be $\\Omega = [0,1]^2$ with periodic boundary conditions everywhere. For the purpose of having the feature available for later we also give the code to provide boundary conditions here:"
   ]
  },
  {
   "cell_type": "code",
   "execution_count": null,
   "metadata": {},
   "outputs": [],
   "source": [
    "ubnd_dir = {\"bottom\" : 0, \"right\" : 0, \"top\" : 0, \"left\" : 0}\n",
    "ubnd = CoefficientFunction([ubnd_dir[key] for key in mesh.GetBoundaries()])"
   ]
  },
  {
   "cell_type": "markdown",
   "metadata": {},
   "source": [
    "As initial values we prescribe $u_0(x,y) = \\sin(2\\pi x)$:"
   ]
  },
  {
   "cell_type": "code",
   "execution_count": null,
   "metadata": {},
   "outputs": [],
   "source": [
    "u0 = sin(2*pi*x)"
   ]
  },
  {
   "cell_type": "markdown",
   "metadata": {},
   "source": [
    "## Discretization"
   ]
  },
  {
   "cell_type": "markdown",
   "metadata": {},
   "source": [
    "### The mesh\n",
    "For the mesh we take a 100x1 mesh (as the solution is constant in y-direction anyway). The time step is manually adjusted to provide stability in the sense of a CFL condition:"
   ]
  },
  {
   "cell_type": "code",
   "execution_count": null,
   "metadata": {},
   "outputs": [],
   "source": [
    "N=100\n",
    "mesh = MakeStructured2DMesh(nx=N,ny=1,quads=True,periodic_x=True,periodic_y=True)\n",
    "dt=1/N"
   ]
  },
  {
   "cell_type": "markdown",
   "metadata": {},
   "source": [
    "### A discretization with a central flux"
   ]
  },
  {
   "cell_type": "code",
   "execution_count": null,
   "metadata": {},
   "outputs": [],
   "source": [
    "def fhatn_central(u1,u2,n):\n",
    "    return 0.5*F(u1)*n+0.5*F(u2)*n # central flux\n",
    "Solve(F,fhatn_central, u0, ubnd, mesh, dt)"
   ]
  },
  {
   "cell_type": "markdown",
   "metadata": {},
   "source": [
    "**TODO:** \n",
    "1. \n",
    "Write a flux function `fhatn_central(u1,u2,n)` as an upwind flux:\n",
    "$$\n",
    "\\hat{f}_{K,n}(u_1,u_2,n) = \\left\\{ \\begin{array}{ccc} u_1 & \\text{if} &\\frac{\\partial F}{\\partial u}(u_1) \\cdot n > 0 \\\\ u_2 & \\text{else.} & \\end{array} \\right.\n",
    "$$\n",
    "2. \n",
    "Test your implementation. Is the discretization stable and or conservative? "
   ]
  },
  {
   "cell_type": "markdown",
   "metadata": {},
   "source": [
    "### A discretization with an upwind-type flux"
   ]
  },
  {
   "cell_type": "markdown",
   "metadata": {},
   "source": [
    "**TODO:** \n",
    "1. \n",
    "Write a flux function `fhatn_central(u1,u2,n)` as an upwind flux:\n",
    "$$\n",
    "\\hat{f}_{K,n}(u_1,u_2,n) = \\left\\{ \\begin{array}{ccc} u_1 & \\text{if} &\\frac{\\partial F}{\\partial u}(u_1) \\cdot n > 0 \\\\ u_2 & \\text{else.} & \\end{array} \\right.\n",
    "$$\n",
    "2. \n",
    "Test your implementation. Is the discretization stable and or conservative? "
   ]
  },
  {
   "cell_type": "markdown",
   "metadata": {},
   "source": [
    "### A discretization with a Lax-Friedrichs flux"
   ]
  },
  {
   "cell_type": "markdown",
   "metadata": {},
   "source": [
    "**TODO:** \n",
    "1. \n",
    "Write a flux function `fhatn_LF(u1,u2,n)` as a Lax-Friedrichs flux:\n",
    "$$\n",
    "\\hat{f}_{K,n}(u_1,u_2,n) = \\frac{F(u_1)+F(u_2)}{2} \\cdot n+ |F_{\\max}| \\frac{u_1-u_2}{2}\n",
    "$$\n",
    "where $|F_{\\max}| = \\max_{v \\in \\{u_1,u_2\\}} |\\frac{\\partial F}{\\partial u}(v)|$.\n",
    "2. \n",
    "Test your implementation. Is the discretization stable and or conservative? "
   ]
  }
 ],
 "metadata": {
  "kernelspec": {
   "display_name": "Python 3",
   "language": "python",
   "name": "python3"
  },
  "language_info": {
   "codemirror_mode": {
    "name": "ipython",
    "version": 3
   },
   "file_extension": ".py",
   "mimetype": "text/x-python",
   "name": "python",
   "nbconvert_exporter": "python",
   "pygments_lexer": "ipython3",
   "version": "3.8.5"
  },
  "toc": {
   "base_numbering": 1,
   "nav_menu": {},
   "number_sections": true,
   "sideBar": true,
   "skip_h1_title": false,
   "title_cell": "Table of Contents",
   "title_sidebar": "Contents",
   "toc_cell": false,
   "toc_position": {},
   "toc_section_display": true,
   "toc_window_display": false
  }
 },
 "nbformat": 4,
 "nbformat_minor": 4
}
