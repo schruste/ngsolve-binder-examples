{
 "cells": [
  {
   "cell_type": "markdown",
   "metadata": {
    "slideshow": {
     "slide_type": "subslide"
    }
   },
   "source": [
    "# Finite volume solver for 1D Burgers' eq."
   ]
  },
  {
   "cell_type": "markdown",
   "metadata": {},
   "source": [
    "## Prerequisites (libraries and helper functions)\n",
    "We start loading several libraries:"
   ]
  },
  {
   "cell_type": "code",
   "execution_count": null,
   "metadata": {},
   "outputs": [],
   "source": [
    "from math import pi\n",
    "from ngsolve import *\n",
    "from netgen.geom2d import SplineGeometry\n",
    "ngsglobals.msg_level = 1\n",
    "from ngsolve.meshes import *\n",
    "from draw import *"
   ]
  },
  {
   "cell_type": "markdown",
   "metadata": {},
   "source": [
    "We may need function for absolute value and maxima computations on `CoefficientFunctions` which we compose with the `IfPos` function:"
   ]
  },
  {
   "cell_type": "code",
   "execution_count": null,
   "metadata": {},
   "outputs": [],
   "source": [
    "def Abs(u):\n",
    "    return IfPos(u,u,-u)\n",
    "def Max(u,v):\n",
    "    return IfPos(u-v,u,v)\n",
    "def Min(u,v):\n",
    "    return IfPos(u-v,v,u)"
   ]
  },
  {
   "cell_type": "markdown",
   "metadata": {},
   "source": [
    "## A simple finite volume solver"
   ]
  },
  {
   "cell_type": "markdown",
   "metadata": {},
   "source": [
    "We can now define a very simple finite volume solver based on:\n",
    " * a flux function $F$,\n",
    " * a numerical flux function $\\hat{f}_n$,\n",
    " * initial values $u_0$,\n",
    " * boundary data (if needed),\n",
    " * a mesh and\n",
    " * a time step for an explicit Euler discretization.\n",
    " \n",
    "Let $u_T$ be the constant corresponding to one element. Then the scheme reads as\n",
    "\n",
    "$$\n",
    "u_T^{n+1} = u_{T}^n - \\frac{\\Delta t}{|T|} \\sum_{K \\in \\partial T} \n",
    "\\hat{f}_{K,n}(u_T,u_{T'},n_K) |K|\n",
    "$$\n",
    "    "
   ]
  },
  {
   "cell_type": "markdown",
   "metadata": {},
   "source": [
    "This, together with some plotting at $t = 0,0.1,..,0.5$ is done in the following function:"
   ]
  },
  {
   "cell_type": "code",
   "execution_count": null,
   "metadata": {},
   "outputs": [],
   "source": [
    "def Solve(F, fhatn, u0, ubnd, mesh, dt):\n",
    "    V = L2(mesh,order=0)\n",
    "    gfu=GridFunction(V)\n",
    "    u,v = V.TnT()\n",
    "    # definition of the \"bilinear\" form\n",
    "    # Note: It -- despite its name -- does not need to be linear in the first argument!\n",
    "    a = BilinearForm (V, nonassemble=True)\n",
    "    #a += -F(u)*grad(v) * dx #<- only for DG\n",
    "    a += fhatn(F,u,u.Other(ubnd),specialcf.normal(mesh.dim)) * v * dx(element_boundary=True)\n",
    "    t=0\n",
    "\n",
    "    gfu.Set(u0)\n",
    "    Draw(gfu,mesh,\"u\")\n",
    "    Ts = [0.1,0.2,0.4]\n",
    "    for T in Ts:\n",
    "        while t < T-dt/2:\n",
    "            gfu.vec.data -= dt * V.InvM() @ a.mat * gfu.vec\n",
    "            t += dt\n",
    "            Redraw()\n",
    "        print(\"t = \", t, \"total concentration: \", abs(Integrate(gfu,mesh,order=0)))\n",
    "        Draw(gfu,mesh,\"u\")\n",
    "    return gfu"
   ]
  },
  {
   "cell_type": "markdown",
   "metadata": {},
   "source": [
    "## The mesh\n",
    "For the mesh we take a N(xN) mesh. The time step is manually adjusted to provide stability in the sense of a CFL condition:"
   ]
  },
  {
   "cell_type": "code",
   "execution_count": null,
   "metadata": {},
   "outputs": [],
   "source": [
    "N=80\n",
    "mesh = Make1DMesh(n=N)\n",
    "CFL=1.0\n",
    "dt=CFL/N"
   ]
  },
  {
   "cell_type": "markdown",
   "metadata": {},
   "source": [
    "The domain is $\\Omega = (0,1)$ with the following boundary conditions:"
   ]
  },
  {
   "cell_type": "code",
   "execution_count": null,
   "metadata": {},
   "outputs": [],
   "source": [
    "ubnd_dir = {\"right\" : 1, \"left\" : 0}"
   ]
  },
  {
   "cell_type": "code",
   "execution_count": null,
   "metadata": {
    "scrolled": true
   },
   "outputs": [],
   "source": [
    "ubnd = CoefficientFunction([ubnd_dir[key] for key in mesh.GetBoundaries()])"
   ]
  },
  {
   "cell_type": "markdown",
   "metadata": {},
   "source": [
    "## The problem\n",
    "As the model problem here we consider the Burgers' equation:\n",
    "$$\n",
    "F(u(x)) = \\frac12 u^2 \\text{ in 1D }\n",
    "$$"
   ]
  },
  {
   "cell_type": "code",
   "execution_count": null,
   "metadata": {},
   "outputs": [],
   "source": [
    "def F(u):\n",
    "    return 0.5*u**2"
   ]
  },
  {
   "cell_type": "markdown",
   "metadata": {},
   "source": [
    "As initial values we prescribe $u_0(x(,y)) = \\sin(2\\pi x)$:"
   ]
  },
  {
   "cell_type": "code",
   "execution_count": null,
   "metadata": {},
   "outputs": [],
   "source": [
    "u0 = IfPos(x-0.5,1,0)"
   ]
  },
  {
   "cell_type": "markdown",
   "metadata": {},
   "source": [
    "## numerical examples"
   ]
  },
  {
   "cell_type": "markdown",
   "metadata": {},
   "source": [
    "### A discretization with a Lax-Friedrichs flux"
   ]
  },
  {
   "cell_type": "code",
   "execution_count": null,
   "metadata": {
    "scrolled": false
   },
   "outputs": [],
   "source": [
    "def fhatn_central(F,u1,u2,n):\n",
    "    return 0.5*F(u1)*n+0.5*F(u2)*n # central flux\n",
    "def fhatn_LF(F,u1,u2,n): \n",
    "    #TODO:\n",
    "    return None\n",
    "gfu = Solve(F,fhatn_LF, u0, ubnd, mesh, dt)"
   ]
  },
  {
   "cell_type": "code",
   "execution_count": null,
   "metadata": {},
   "outputs": [],
   "source": [
    "#compute error\n",
    "sol = None #TODO!\n",
    "print(Integrate(Abs(sol-gfu),mesh))"
   ]
  },
  {
   "cell_type": "code",
   "execution_count": null,
   "metadata": {},
   "outputs": [],
   "source": [
    "def fhatn_EO(F,u1,u2,n): \n",
    "    # TODO\n",
    "    return None\n",
    "gfu = Solve(F,fhatn_EO, u0, ubnd, mesh, dt)"
   ]
  },
  {
   "cell_type": "code",
   "execution_count": null,
   "metadata": {},
   "outputs": [],
   "source": [
    "print(Integrate(Abs(sol-gfu),mesh))"
   ]
  }
 ],
 "metadata": {
  "kernelspec": {
   "display_name": "Python 3",
   "language": "python",
   "name": "python3"
  },
  "language_info": {
   "codemirror_mode": {
    "name": "ipython",
    "version": 3
   },
   "file_extension": ".py",
   "mimetype": "text/x-python",
   "name": "python",
   "nbconvert_exporter": "python",
   "pygments_lexer": "ipython3",
   "version": "3.8.5"
  },
  "toc": {
   "base_numbering": 1,
   "nav_menu": {},
   "number_sections": true,
   "sideBar": true,
   "skip_h1_title": false,
   "title_cell": "Table of Contents",
   "title_sidebar": "Contents",
   "toc_cell": false,
   "toc_position": {},
   "toc_section_display": true,
   "toc_window_display": false
  }
 },
 "nbformat": 4,
 "nbformat_minor": 4
}
