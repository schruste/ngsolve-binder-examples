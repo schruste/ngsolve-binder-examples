{
 "cells": [
  {
   "cell_type": "markdown",
   "metadata": {
    "slideshow": {
     "slide_type": "subslide"
    }
   },
   "source": [
    "# Basic finite volume solver for scalar hyperbolic conservation laws"
   ]
  },
  {
   "cell_type": "markdown",
   "metadata": {},
   "source": [
    "## Prerequisites (libraries and helper functions)\n",
    "We start loading several libraries:"
   ]
  },
  {
   "cell_type": "code",
   "execution_count": null,
   "metadata": {},
   "outputs": [],
   "source": [
    "from math import pi\n",
    "from ngsolve import *\n",
    "from netgen.geom2d import SplineGeometry\n",
    "ngsglobals.msg_level = 1\n",
    "from ngsolve.meshes import *\n",
    "from draw import *\n"
   ]
  },
  {
   "cell_type": "markdown",
   "metadata": {},
   "source": [
    "We may need function for absolute value and maxima computations on `CoefficientFunctions` which we compose with the `IfPos` function:"
   ]
  },
  {
   "cell_type": "code",
   "execution_count": null,
   "metadata": {},
   "outputs": [],
   "source": [
    "def Abs(u):\n",
    "    return IfPos(u,u,-u)\n",
    "\n",
    "def Max(u,v):\n",
    "    return IfPos(u-v,u,v)"
   ]
  },
  {
   "cell_type": "markdown",
   "metadata": {},
   "source": [
    "## A simple finite volume solver"
   ]
  },
  {
   "cell_type": "markdown",
   "metadata": {},
   "source": [
    "We can now define a very simple finite volume solver based on:\n",
    " * a flux function $F$,\n",
    " * a numerical flux function $\\hat{f}_n$,\n",
    " * initial values $u_0$,\n",
    " * boundary data (if needed),\n",
    " * a mesh and\n",
    " * a time step for an explicit Euler discretization.\n",
    " \n",
    "Let $u_T$ be the constant corresponding to one element. Then the scheme reads as\n",
    "\n",
    "$$\n",
    "u_T^{n+1} = u_{T}^n - \\frac{\\Delta t}{|T|} \\sum_{K \\in \\partial T} \n",
    "\\hat{f}_{K,n}(u_T,u_{T'},n_K) |K|\n",
    "$$\n",
    "    "
   ]
  },
  {
   "cell_type": "markdown",
   "metadata": {},
   "source": [
    "This, together with some plotting at $t = 0,0.1,..,0.5$ is done in the following function:"
   ]
  },
  {
   "cell_type": "code",
   "execution_count": null,
   "metadata": {},
   "outputs": [],
   "source": [
    "def Solve(F, fhatn, u0, ubnd, mesh, dt):\n",
    "    V = L2(mesh,order=0)\n",
    "    gfu=GridFunction(V)\n",
    "    u,v = V.TnT()\n",
    "    # definition of the \"bilinear\" form\n",
    "    # Note: It -- despite its name -- does not need to be linear in the first argument!\n",
    "    a = BilinearForm (V, nonassemble=True)\n",
    "    #a += -F(u)*grad(v) * dx #<- only for DG\n",
    "    a += fhatn(F,u,u.Other(ubnd),specialcf.normal(mesh.dim)) * v * dx(element_boundary=True)\n",
    "    t=0\n",
    "\n",
    "    gfu.Set(u0)\n",
    "    intu0 = Integrate(gfu,mesh,order=0)\n",
    "    Draw(gfu,mesh,\"u\")\n",
    "    \n",
    "    Ts = [0.1,0.4,1.6]\n",
    "    for T in Ts:\n",
    "        while t < T-dt/2:\n",
    "            gfu.vec.data -= dt * V.InvM() @ a.mat * gfu.vec\n",
    "            t += dt\n",
    "            Redraw()\n",
    "        print(\"t = \", t, \"conservation error: \", abs(Integrate(gfu,mesh,order=0)-intu0))\n",
    "        Draw(gfu,mesh,\"u\")\n",
    "    return gfu"
   ]
  },
  {
   "cell_type": "markdown",
   "metadata": {},
   "source": [
    "## Some helper functions:\n",
    "* Computing the Jacobian of a scalar flux\n",
    "* Computing the maximum char. speed between two states $u_1, u_2$\n",
    "\n",
    "(Note that in general the maximum char. speed could also be assumed in the interior $(\\min(u_1,u_2),\\max(u_1,u_2))$. In that case the function `AbsFmax` should be overwritten manually)"
   ]
  },
  {
   "cell_type": "code",
   "execution_count": null,
   "metadata": {},
   "outputs": [],
   "source": [
    "def Jacobian(F,u):\n",
    "    dummy = Parameter(1)\n",
    "    return F(dummy).Derive(dummy,u)\n",
    "def AbsFmax(F,u1,u2):\n",
    "    absdfus = [Norm(Jacobian(F,u)) for u in [u1,u2]]\n",
    "    return Max(absdfus[0],absdfus[1])"
   ]
  },
  {
   "cell_type": "markdown",
   "metadata": {},
   "source": [
    "## The mesh\n",
    "For the mesh we take a N(xN) mesh. The time step is manually adjusted to provide stability in the sense of a CFL condition:"
   ]
  },
  {
   "cell_type": "code",
   "execution_count": null,
   "metadata": {},
   "outputs": [],
   "source": [
    "N=50\n",
    "#mesh = MakeStructured2DMesh(nx=N,ny=N,quads=True,periodic_x=True,periodic_y=True)\n",
    "mesh = Make1DMesh(n=N,periodic=True)\n",
    "dt=0.5/N"
   ]
  },
  {
   "cell_type": "markdown",
   "metadata": {},
   "source": [
    "The domain will be $\\Omega = [0,1]^d$ with periodic boundary conditions everywhere. For the purpose of having the feature available for later we also give the code to provide boundary conditions here:"
   ]
  },
  {
   "cell_type": "markdown",
   "metadata": {},
   "source": [
    "(possible) boundary conditions:"
   ]
  },
  {
   "cell_type": "code",
   "execution_count": null,
   "metadata": {},
   "outputs": [],
   "source": [
    "ubnd_dir = {\"bottom\" : 0, \"right\" : 0, \"top\" : 0, \"left\" : 0}"
   ]
  },
  {
   "cell_type": "code",
   "execution_count": null,
   "metadata": {
    "scrolled": true
   },
   "outputs": [],
   "source": [
    "ubnd = CoefficientFunction([ubnd_dir[key] for key in mesh.GetBoundaries()])"
   ]
  },
  {
   "cell_type": "markdown",
   "metadata": {},
   "source": [
    "## The problem\n",
    "As the model problem here we consider (a trivial extension of) the Burgers equation (to 2D):\n",
    "$$\n",
    "F(u(x)) = \\frac12 u^2 \\text{ in 1D } \\quad \\text{ or } \\quad\n",
    "F(u(x,y,t)) = (\\frac12 u^2, \\frac12 u^2)^T \\text{ in 2D }\n",
    "$$"
   ]
  },
  {
   "cell_type": "code",
   "execution_count": null,
   "metadata": {},
   "outputs": [],
   "source": [
    "def F(u):\n",
    "    return CoefficientFunction(tuple([0.5*u*u for i in range(mesh.dim)]))"
   ]
  },
  {
   "cell_type": "markdown",
   "metadata": {},
   "source": [
    "As initial values we prescribe $u_0(x(,y)) = \\sin(2\\pi x)$:"
   ]
  },
  {
   "cell_type": "code",
   "execution_count": null,
   "metadata": {},
   "outputs": [],
   "source": [
    "if mesh.dim == 2:\n",
    "    u0 = sin(2*pi*x)*cos(2*pi*y)\n",
    "else:\n",
    "    u0 = IfPos(x-0.5,1,0)"
   ]
  },
  {
   "cell_type": "markdown",
   "metadata": {},
   "source": [
    "## numerical examples"
   ]
  },
  {
   "cell_type": "markdown",
   "metadata": {},
   "source": [
    "### A discretization with a central flux"
   ]
  },
  {
   "cell_type": "code",
   "execution_count": null,
   "metadata": {
    "scrolled": false
   },
   "outputs": [],
   "source": [
    "def fhatn_central(F,u1,u2,n):\n",
    "    return 0.5*F(u1)*n+0.5*F(u2)*n # central flux"
   ]
  },
  {
   "cell_type": "markdown",
   "metadata": {},
   "source": [
    "### A discretization with a Lax-Friedrichs flux"
   ]
  },
  {
   "cell_type": "markdown",
   "metadata": {},
   "source": [
    "We define a flux function `fhatn_LF(u1,u2,n)` as a Lax-Friedrichs flux:\n",
    "$$\n",
    "\\hat{f}_{K,n}(u_1,u_2,n) = \\frac{F(u_1)+F(u_2)}{2} \\cdot n+ |F_{\\max}| \\frac{u_1-u_2}{2}\n",
    "$$\n",
    "where $|F_{\\max}| = \\max_{v \\in \\{u_1,u_2\\}} \\Vert \\frac{\\partial F}{\\partial u}(v) \\Vert_2$:"
   ]
  },
  {
   "cell_type": "code",
   "execution_count": null,
   "metadata": {
    "scrolled": false
   },
   "outputs": [],
   "source": [
    "def fhatn_LF(F,u1,u2,n):\n",
    "    return fhatn_central(F,u1,u2,n) + AbsFmax(F,u1,u2) *0.5*(u1-u2)\n",
    "gfu = Solve(F,fhatn_LF, u0, ubnd, mesh, dt)"
   ]
  },
  {
   "cell_type": "markdown",
   "metadata": {},
   "source": [
    "### Draw direction of characteristics:"
   ]
  },
  {
   "cell_type": "code",
   "execution_count": null,
   "metadata": {},
   "outputs": [],
   "source": [
    "Draw(Jacobian(F,gfu),mesh,\"direction of characteristics\")"
   ]
  }
 ],
 "metadata": {
  "kernelspec": {
   "display_name": "Python 3",
   "language": "python",
   "name": "python3"
  },
  "language_info": {
   "codemirror_mode": {
    "name": "ipython",
    "version": 3
   },
   "file_extension": ".py",
   "mimetype": "text/x-python",
   "name": "python",
   "nbconvert_exporter": "python",
   "pygments_lexer": "ipython3",
   "version": "3.8.5"
  },
  "toc": {
   "base_numbering": 1,
   "nav_menu": {},
   "number_sections": true,
   "sideBar": true,
   "skip_h1_title": false,
   "title_cell": "Table of Contents",
   "title_sidebar": "Contents",
   "toc_cell": false,
   "toc_position": {},
   "toc_section_display": true,
   "toc_window_display": false
  }
 },
 "nbformat": 4,
 "nbformat_minor": 4
}
