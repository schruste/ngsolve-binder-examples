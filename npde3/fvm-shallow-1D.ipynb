{
 "cells": [
  {
   "cell_type": "markdown",
   "metadata": {
    "slideshow": {
     "slide_type": "subslide"
    }
   },
   "source": [
    "# Finite volume solver for the shallow water equations"
   ]
  },
  {
   "cell_type": "markdown",
   "metadata": {},
   "source": [
    "We consider the shallow water equations as an example of a nonlinear conservation law, i.e. we consider\n",
    "\n",
    "$$\n",
    "  \\partial_t \\mathbf{U} + \\operatorname{div}(\\mathbf{F} (\\mathbf{U} )) = 0 \\qquad in \\qquad \\Omega \\times[0,T],\n",
    "$$\n",
    "with \n",
    "$$\n",
    "\\mathbf{U} = (h, hu) = (\\mathbf{u}_1, \\mathbf{u}_2)\n",
    "$$\n",
    "and \n",
    "$$\n",
    "  \\mathbf{F}(\\mathbf{U})) \n",
    "  = \\left( \\begin{array}{c} h u\\\\ h u^2 + \\frac12 g h^2 \\end{array} \\right) \n",
    "  = \\left( \\begin{array}{c} \\mathbf{u}_2\\\\ \\frac{\\mathbf{u}_2^2}{\\mathbf{u}_1} + \\frac12 g \\mathbf{u}_1^2 \\end{array} \\right)\n",
    "$$"
   ]
  },
  {
   "cell_type": "markdown",
   "metadata": {},
   "source": [
    "## Jacobian of the flux for shallow water:\n",
    "$$\n",
    "\\mathbf{A}(\\mathbf{u}) =\n",
    "\\left(\n",
    "      \\begin{array}{cc}\n",
    "      0 & 1 \\\\\n",
    "      - \\frac{\\mathbf{u}_2^2}{\\mathbf{u}_1^2} + g \\mathbf{u}_1 & 2 \\frac{\\mathbf{u}_2}{\\mathbf{u}_1} \n",
    "      \\end{array}\n",
    "\\right)\n",
    "=\n",
    "\\left(\n",
    "      \\begin{array}{cc}\n",
    "      0 & 1 \\\\\n",
    "      - u^2 + g h & 2 u\n",
    "      \\end{array}\n",
    "\\right)\n",
    "\\quad \\rho(\\mathbf{A}(\\mathbf{u})) = \\{ u - \\sqrt{gh}, u + \\sqrt{gh} \\}\n",
    "$$"
   ]
  },
  {
   "cell_type": "markdown",
   "metadata": {},
   "source": [
    "## Prerequisites (libraries and helper functions)\n",
    "We start loading several libraries:"
   ]
  },
  {
   "cell_type": "code",
   "execution_count": null,
   "metadata": {},
   "outputs": [],
   "source": [
    "from math import pi\n",
    "from ngsolve import *\n",
    "from netgen.geom2d import SplineGeometry\n",
    "ngsglobals.msg_level = 1\n",
    "from ngsolve.meshes import *\n",
    "from draw import *"
   ]
  },
  {
   "cell_type": "markdown",
   "metadata": {},
   "source": [
    "## The mesh, parameters and boundary conditions."
   ]
  },
  {
   "cell_type": "code",
   "execution_count": null,
   "metadata": {},
   "outputs": [],
   "source": [
    "N=32\n",
    "mesh = Make1DMesh(n=N,periodic=True)\n",
    "g = 9.81\n",
    "k=0\n",
    "CFL=1\n",
    "dt=1.0/6*CFL/N #(6 is an educated guess on the maximum characteristic speed)\n",
    "lambd=1"
   ]
  },
  {
   "cell_type": "code",
   "execution_count": null,
   "metadata": {},
   "outputs": [],
   "source": [
    "dim = mesh.dim+1"
   ]
  },
  {
   "cell_type": "markdown",
   "metadata": {},
   "source": [
    "## A simple finite volume solver"
   ]
  },
  {
   "cell_type": "markdown",
   "metadata": {},
   "source": [
    "We can now define a very simple finite volume solver based on:\n",
    " * a flux function $F$,\n",
    " * a numerical flux function $\\hat{f}_n$,\n",
    " * initial values $u_0$,\n",
    " * a mesh and\n",
    " * a time step for an explicit Euler discretization.\n",
    " \n",
    "Let $u_T$ be the constant corresponding to one element. Then the scheme reads as\n",
    "\n",
    "$$\n",
    "u_T^{n+1} = u_{T}^n - \\frac{\\Delta t}{|T|} \\sum_{K \\in \\partial T} \n",
    "\\hat{f}_{K,n}(u_T,u_{T'},n_K) |K|\n",
    "$$\n",
    "    "
   ]
  },
  {
   "cell_type": "markdown",
   "metadata": {},
   "source": [
    "This, together with some plotting at $t = 0.2,..,1$ is done in the following function:"
   ]
  },
  {
   "cell_type": "code",
   "execution_count": null,
   "metadata": {},
   "outputs": [],
   "source": [
    "W = L2(mesh,order=k,dim=dim)\n",
    "def Solve(F, fhatn, u0, mesh, dt):\n",
    "    gfu=GridFunction(W)\n",
    "    U,V = W.TnT()\n",
    "    a = BilinearForm (W, nonassemble=True)\n",
    "    a += InnerProduct(fhatn(F,U,U.Other(),specialcf.normal(mesh.dim)),V) * dx(element_boundary=True)\n",
    "    t=0\n",
    "\n",
    "    gfu.Set(u0)\n",
    "    Ts = [i*0.005 for i in range(1,5)] + [i*0.025 for i in range(1,21)]\n",
    "    i = 0\n",
    "    for T in Ts:\n",
    "        while t < T-dt/2:\n",
    "            gfu.vec.data -= dt * W.InvM() @ a.mat * gfu.vec\n",
    "            t += dt\n",
    "            i += 1\n",
    "            Redraw()\n",
    "        Draw1D(mesh,[(gfu[0],\"h\")],n_p=k+1)\n",
    "        print(\"t =\",t,\" total mass:\",Integrate(gfu[0],mesh))\n",
    "    print(i,\"steps\")\n",
    "    return gfu"
   ]
  },
  {
   "cell_type": "markdown",
   "metadata": {},
   "source": [
    "## The flux function, initial values and boundary conditions"
   ]
  },
  {
   "cell_type": "code",
   "execution_count": null,
   "metadata": {},
   "outputs": [],
   "source": [
    "def F(U):\n",
    "    h, hv = U   # unpack the state vector\n",
    "    return None # TODO"
   ]
  },
  {
   "cell_type": "markdown",
   "metadata": {},
   "source": [
    "As initial values we prescribe $u_0(x)$:"
   ]
  },
  {
   "cell_type": "code",
   "execution_count": null,
   "metadata": {
    "scrolled": true
   },
   "outputs": [],
   "source": [
    "def tanh(x):\n",
    "    return (exp(x)-exp(-x)) / (exp(x)+exp(-x))\n",
    "def smoothed_jump(leftval, rightval, jumpposition, layerwidth):\n",
    "    return leftval + (0.5*tanh(4/layerwidth*(x-jumpposition))+0.5)*(rightval-leftval)\n",
    "h0 = smoothed_jump(0,1,0.4,0.1)+smoothed_jump(1,0,0.6,0.1)\n",
    "Draw1D(mesh,[(h0,\"$h_0$\")])\n",
    "U0 = CoefficientFunction((h0,0))"
   ]
  },
  {
   "cell_type": "markdown",
   "metadata": {},
   "source": [
    "## numerical examples"
   ]
  },
  {
   "cell_type": "code",
   "execution_count": null,
   "metadata": {},
   "outputs": [],
   "source": [
    "def Abs(u):\n",
    "    return IfPos(u,u,-u)\n",
    "def Max(u,v):\n",
    "    return IfPos(u-v,u,v)"
   ]
  },
  {
   "cell_type": "markdown",
   "metadata": {},
   "source": [
    "### discretizations with a Lax-Friedrichs and Roe flux"
   ]
  },
  {
   "cell_type": "code",
   "execution_count": null,
   "metadata": {
    "scrolled": true
   },
   "outputs": [],
   "source": [
    "def fhatn_central(F,u1,u2,n):\n",
    "    return 0.5*F(u1)*n+0.5*F(u2)*n\n",
    "\n",
    "def fhatn(F,u1,u2,n): # TODO\n",
    "    return None\n",
    "gfu = Solve(F,fhatn, U0, mesh, dt)"
   ]
  }
 ],
 "metadata": {
  "kernelspec": {
   "display_name": "Python 3",
   "language": "python",
   "name": "python3"
  },
  "language_info": {
   "codemirror_mode": {
    "name": "ipython",
    "version": 3
   },
   "file_extension": ".py",
   "mimetype": "text/x-python",
   "name": "python",
   "nbconvert_exporter": "python",
   "pygments_lexer": "ipython3",
   "version": "3.8.6"
  },
  "toc": {
   "base_numbering": 1,
   "nav_menu": {},
   "number_sections": true,
   "sideBar": true,
   "skip_h1_title": false,
   "title_cell": "Table of Contents",
   "title_sidebar": "Contents",
   "toc_cell": false,
   "toc_position": {},
   "toc_section_display": true,
   "toc_window_display": false
  }
 },
 "nbformat": 4,
 "nbformat_minor": 4
}
