{
 "cells": [
  {
   "cell_type": "markdown",
   "metadata": {
    "slideshow": {
     "slide_type": "slide"
    }
   },
   "source": [
    "# Technical stuff and disclaimer:\n",
    "Disclaimer: Several images are left out from the online material that have only been used in a seminar talk. The material can be found in the book:\n",
    "* Karniadakis, G., & Sherwin, S. (2005-06-02). Spectral/hp Element Methods for Computational Fluid Dynamics. Oxford University Press, see https://oxford.universitypressscholarship.com/view/10.1093/acprof:oso/9780198528692.001.0001/acprof-9780198528692. "
   ]
  },
  {
   "cell_type": "code",
   "execution_count": 1,
   "metadata": {
    "slideshow": {
     "slide_type": "-"
    }
   },
   "outputs": [
    {
     "data": {
      "text/html": [
       "<style>.container { width:100% !important; }</style>"
      ],
      "text/plain": [
       "<IPython.core.display.HTML object>"
      ]
     },
     "metadata": {},
     "output_type": "display_data"
    }
   ],
   "source": [
    "from IPython.core.display import display, HTML\n",
    "display(HTML(\"<style>.container { width:100% !important; }</style>\"))\n",
    "#!pip install jupyterthemes\n",
    "#!pip install --upgrade jupyterthemes!\n",
    "#!jt -t monokai -T -N"
   ]
  },
  {
   "cell_type": "code",
   "execution_count": 2,
   "metadata": {
    "slideshow": {
     "slide_type": "subslide"
    }
   },
   "outputs": [],
   "source": [
    "from ipywidgets import interact, interactive_output, interact_manual, interactive, FloatSlider, IntSlider, Dropdown\n",
    "from IPython.display import display\n",
    "from math import sin, cos, exp, log, sqrt\n",
    "from ngsolve import * \n",
    "from mesh1d import *\n",
    "from draw1d import * \n",
    "from specials import *"
   ]
  },
  {
   "cell_type": "code",
   "execution_count": 3,
   "metadata": {
    "slideshow": {
     "slide_type": "-"
    }
   },
   "outputs": [],
   "source": [
    "#!jt -r"
   ]
  },
  {
   "cell_type": "markdown",
   "metadata": {
    "slideshow": {
     "slide_type": "slide"
    }
   },
   "source": [
    "# Higher Order FEM in 1D"
   ]
  },
  {
   "cell_type": "markdown",
   "metadata": {
    "slideshow": {
     "slide_type": "-"
    }
   },
   "source": [
    "* Method of Weighted Residuals (what is the role of finite element **spaces**)\n",
    "* 1D piecewise linear trial/expansion bases (the simplest example)\n",
    "* 1D finite elements:  Global vs. local expansions (the basis matters!)\n",
    "* Construction of higher order finite elements \n",
    "* Quadrature \n",
    "* (Error bounds)"
   ]
  },
  {
   "cell_type": "markdown",
   "metadata": {
    "slideshow": {
     "slide_type": "slide"
    }
   },
   "source": [
    "## Method of Weighted Residuals"
   ]
  },
  {
   "cell_type": "markdown",
   "metadata": {
    "slideshow": {
     "slide_type": "-"
    }
   },
   "source": [
    "Consider a linear differential equation on a domain $\\Omega$ by\n",
    "$$\n",
    "L(u) = f\n",
    "$$"
   ]
  },
  {
   "cell_type": "markdown",
   "metadata": {
    "slideshow": {
     "slide_type": "subslide"
    }
   },
   "source": [
    "### Approximate solution\n",
    "$$\n",
    "u_h(x,t) = u_0(x,t) + \\sum_{i=1}^{N_{dof}} \\vec{u}_i(t) \\varphi_i(x)\n",
    "$$\n",
    "where $\\varphi_i(x)$ are the *trial* (or expansion) functions. "
   ]
  },
  {
   "cell_type": "markdown",
   "metadata": {
    "slideshow": {
     "slide_type": "fragment"
    }
   },
   "source": [
    "#### Desired equation\n",
    "$$\n",
    "    R(u_h) = L(u_h) - f \\equiv 0\n",
    "$$\n",
    "where *R* is the *residual*."
   ]
  },
  {
   "cell_type": "markdown",
   "metadata": {
    "slideshow": {
     "slide_type": "fragment"
    }
   },
   "source": [
    "##### Problem: $u_h$ is $N_{dof}$-dimensional, but the equation is posed in infinite dimensions."
   ]
  },
  {
   "cell_type": "markdown",
   "metadata": {
    "slideshow": {
     "slide_type": "subslide"
    }
   },
   "source": [
    "#### Test / weighting functions:\n",
    "* Introduce a restriction of the residual $R$\n",
    "* Only ask for \n",
    "$$\n",
    "    \\langle \\psi_i(x),R(u_h) \\rangle = 0, \\quad \\text{for } i=1,..,N_{dof}\n",
    "$$\n",
    "for *test* (or *weighting*) functions $\\psi_i$ where $\\langle \\cdot, \\cdot \\rangle$ is a general duality pairing (think of the scalar product $\\int_{\\Omega} \\cdots~ dx$ for now)\n"
   ]
  },
  {
   "cell_type": "markdown",
   "metadata": {
    "slideshow": {
     "slide_type": "fragment"
    }
   },
   "source": [
    "* Different types of test functions lead to different schemes"
   ]
  },
  {
   "cell_type": "markdown",
   "metadata": {
    "slideshow": {
     "slide_type": "-"
    }
   },
   "source": [
    "<center><img src=\"weightfcts.png\"/></center>"
   ]
  },
  {
   "cell_type": "markdown",
   "metadata": {
    "slideshow": {
     "slide_type": "subslide"
    }
   },
   "source": [
    "### Galerkin formulation\n",
    "\n",
    "Find $u_h \\in V_h$ (with $V_h = \\operatorname{span} \\{ \\varphi_i \\}$) so that\n",
    "$$\n",
    "    \\langle v_h, R(u_h) \\rangle = 0 \\quad \\forall v_h \\in V_h\n",
    "$$\n",
    "or equivalently\n",
    "$$\n",
    "    \\langle \\varphi_i, R(u_h) \\rangle = 0 \\quad \\text{for } i = 1,..,N_{dof}.\n",
    "$$\n",
    "\n"
   ]
  },
  {
   "cell_type": "markdown",
   "metadata": {
    "slideshow": {
     "slide_type": "fragment"
    }
   },
   "source": [
    "Now: $N_{dof}$ unknowns and $N_{dof}$ equations."
   ]
  },
  {
   "cell_type": "markdown",
   "metadata": {
    "slideshow": {
     "slide_type": "subslide"
    }
   },
   "source": [
    "#### Weak formulation\n",
    "$R(u_h)$ does not (even) need to be a $C^0$ or $L^2$ function, i.e. $\\langle \\cdot, \\cdot \\rangle$ could also be a duality pairing with lower regularity requirements on the second argument. "
   ]
  },
  {
   "cell_type": "markdown",
   "metadata": {
    "slideshow": {
     "slide_type": "fragment"
    }
   },
   "source": [
    "For example: \n",
    "\n",
    "For the Poisson problem $- \\Delta u = f$ in $\\Omega $ with $u = 0$ on $\\partial \\Omega$ we know that: \n",
    "\n",
    "Find $u \\in H^1_0(\\Omega)$, s.t. $(\\nabla u, \\nabla v)_{\\Omega} = (f,v)_{\\Omega}$ for all $v \\in H^1_0(\\Omega)$ \n",
    "\n",
    "is a proper *weak formulation*."
   ]
  },
  {
   "cell_type": "markdown",
   "metadata": {
    "slideshow": {
     "slide_type": "fragment"
    }
   },
   "source": [
    "The standard Galerkin formulation of the Poisson problem is then obtained with \n",
    "$$\n",
    "R: H^1_0 \\to H^{-1} := (H^1_0)^*, \\qquad \\langle v , R(u) \\rangle_{H^1_0 \\times H^{-1}} = (\\nabla v, \\nabla u) - ( v, f)\n",
    "$$"
   ]
  },
  {
   "cell_type": "markdown",
   "metadata": {
    "slideshow": {
     "slide_type": "fragment"
    }
   },
   "source": [
    "**The choice of the trial / expansion function spaces matters!**"
   ]
  },
  {
   "cell_type": "markdown",
   "metadata": {
    "slideshow": {
     "slide_type": "slide"
    }
   },
   "source": [
    "## 1D piecewise linear trial/expansion bases"
   ]
  },
  {
   "cell_type": "markdown",
   "metadata": {
    "slideshow": {
     "slide_type": "-"
    }
   },
   "source": [
    "Recall: Standard linear finite element"
   ]
  },
  {
   "cell_type": "code",
   "execution_count": 4,
   "metadata": {
    "scrolled": false,
    "slideshow": {
     "slide_type": "-"
    }
   },
   "outputs": [
    {
     "data": {
      "application/vnd.jupyter.widget-view+json": {
       "model_id": "9dcaf873e65c423ba1cae00affedb8ec",
       "version_major": 2,
       "version_minor": 0
      },
      "text/plain": [
       "interactive(children=(Dropdown(description='N', options=(4, 6, 8), value=4), IntSlider(value=0, continuous_upd…"
      ]
     },
     "metadata": {},
     "output_type": "display_data"
    }
   ],
   "source": [
    "align(interactive(DrawBasisFunction, N=[4,6,8], i=IntSlider(min=0, max=41, step=1, continuous_update=False),\n",
    "                  order=[1,2,3]))"
   ]
  },
  {
   "cell_type": "markdown",
   "metadata": {
    "slideshow": {
     "slide_type": "subslide"
    }
   },
   "source": [
    "### Affine mappings"
   ]
  },
  {
   "cell_type": "markdown",
   "metadata": {
    "slideshow": {
     "slide_type": "-"
    }
   },
   "source": [
    " Reference domain:\n",
    " $$\n",
    " \\hat{T} = (-1,1) \\qquad (\\text{often also } \\hat{T} = (0,1) )\n",
    " $$"
   ]
  },
  {
   "cell_type": "markdown",
   "metadata": {
    "slideshow": {
     "slide_type": "fragment"
    }
   },
   "source": [
    "Every *physical* element (interval) $(a,b)$ can be mapped to $\\hat{T}$ by an affine mapping:\n",
    "$$\n",
    "\\Phi_i: \\hat{T} \\to T_i = (x_{i-1},x_i)\n",
    "$$"
   ]
  },
  {
   "cell_type": "markdown",
   "metadata": {
    "slideshow": {
     "slide_type": "fragment"
    }
   },
   "source": [
    "Global modes $\\varphi_i$ can be represented in terms of local elemental expansion modes $\\phi_i$:\n",
    "\n",
    "$$\n",
    "\\varphi_i = \\left\\{ \\begin{array}{cl} \\frac{x-x_{i-1}}{x_i-x_{i-1}} & x \\in T_i \\\\ \\frac{x-x_{i+1}}{x_i-x_{i+1}} & x \\in T_{i+1} \\\\ 0 & \\text{otherwise} \\end{array} \\right.\n",
    "= \\left\\{ \\begin{array}{cl} \\phi_1( \\Phi_i^{-1}(x) )  & x \\in T_i \\\\ \\phi_0( \\Phi_{i+1}^{-1}(x) ) & x \\in T_{i+1} \\\\ 0 & \\text{otherwise} \\end{array} \\right.\n",
    "$$\n"
   ]
  },
  {
   "cell_type": "code",
   "execution_count": 5,
   "metadata": {
    "slideshow": {
     "slide_type": "subslide"
    }
   },
   "outputs": [
    {
     "data": {
      "application/vnd.jupyter.widget-view+json": {
       "model_id": "9cb8f1695c2d42339739ed4e93793f88",
       "version_major": 2,
       "version_minor": 0
      },
      "text/plain": [
       "interactive(children=(Dropdown(description='N', options=(1,), value=1), IntSlider(value=0, continuous_update=F…"
      ]
     },
     "metadata": {},
     "output_type": "display_data"
    }
   ],
   "source": [
    "align(interactive(DrawBasisFunction, N=[1], i=IntSlider(min=0, max=1, step=1, continuous_update=False),\n",
    "                  order=[1]))"
   ]
  },
  {
   "cell_type": "markdown",
   "metadata": {
    "slideshow": {
     "slide_type": "subslide"
    }
   },
   "source": [
    "### Parametric mappings\n",
    "The maping $\\Phi_i$ from *local* coordinates (in $\\hat{T}$) to *global* coordinates (in $T_i$) can be seen as expanding the global coordinate as a finite element expansion:\n",
    "$$\n",
    "  x = \\Phi_i(\\hat{x}) = \\phi_0(\\hat{x}) x_{i-1} + \\phi_1(\\hat{x}) x_i, \\hat{x} \\in \\hat{T}\n",
    "$$\n",
    "Hence, $x$ is represented by a finite element function. If the polynomial degree of this mapping $\\Phi_i$ and the finite element trial/test space are the same, the method is denoted as *iso-parametric*, otherwise *sub*- or *super*-parametric."
   ]
  },
  {
   "cell_type": "markdown",
   "metadata": {
    "slideshow": {
     "slide_type": "slide"
    }
   },
   "source": [
    "## 1D finite elements:  Global vs. local expansions"
   ]
  },
  {
   "cell_type": "markdown",
   "metadata": {
    "slideshow": {
     "slide_type": "-"
    }
   },
   "source": [
    "The global finite element space"
   ]
  },
  {
   "cell_type": "markdown",
   "metadata": {
    "slideshow": {
     "slide_type": "-"
    }
   },
   "source": [
    "The space of continuous, piecewise polynomials:\n",
    "$$\n",
    "V_h = \\{ u_h \\mid u_h \\in H^1, u_h(\\Phi_i(\\hat{x})) \\in \\mathcal{P}^k(\\hat{T}), i=1,..,N_{el}\\}\n",
    "$$\n",
    "Note: $u_h$ is a piecewise polynomial **after** mapping with $\\Phi_i$, i.e. w.r.t. to $\\hat{T}$. "
   ]
  },
  {
   "cell_type": "markdown",
   "metadata": {
    "slideshow": {
     "slide_type": "subslide"
    }
   },
   "source": [
    "#### Global and local expansion\n",
    "For $u_h \\in V_h$ we have the representations:\n",
    "$$\n",
    "u_h(x) = \\sum_{i=1}^{N_{dof}} \\varphi_i(x) \\vec{u}_i = \\sum_{i=1}^{N_{el}} \\sum_{l=0}^k \\phi_l(\\underbrace{\\Phi_i^{-1}(x)}_{\\hat{x}}) \\vec{u}_l^i\n",
    "$$\n",
    "with:\n",
    "1. the global representation ($\\vec{u}_i$, $i=1,..,N_{dof}$) and\n",
    "2. an element local representation ($\\vec{u}_l^i$, $i=1,..,N_{el}$, $l=0,..,k$) "
   ]
  },
  {
   "cell_type": "markdown",
   "metadata": {
    "slideshow": {
     "slide_type": "fragment"
    }
   },
   "source": [
    "why $N_{dof} \\not = N_{el} \\cdot (k+1) $?"
   ]
  },
  {
   "cell_type": "markdown",
   "metadata": {
    "slideshow": {
     "slide_type": "fragment"
    }
   },
   "source": [
    "* Continuity constraint!"
   ]
  },
  {
   "cell_type": "markdown",
   "metadata": {
    "slideshow": {
     "slide_type": "fragment"
    }
   },
   "source": [
    "Example:\n",
    "\n",
    "For $k=1$ we have\n",
    "$u_1^i = u_0^{i+1}$."
   ]
  },
  {
   "cell_type": "markdown",
   "metadata": {
    "slideshow": {
     "slide_type": "subslide"
    }
   },
   "source": [
    "Local expansion basis is used for local computations:\n",
    "* element matrices\n",
    "* element vectors\n",
    "* integrals\n",
    "\n",
    "Global expansion basis for\n",
    "* setup of global matrix\n",
    "* setup of global vectors"
   ]
  },
  {
   "cell_type": "markdown",
   "metadata": {
    "slideshow": {
     "slide_type": "subslide"
    }
   },
   "source": [
    "#### Transformation global to local. Example: $N_{el}=3$, $k=1$\n",
    "$$\n",
    "\\vec{u}_{loc} = \n",
    "(\\vec{u}_l^i)_{i,l} =  \n",
    "\\left( \\begin{array}{c} \n",
    "u_0^1 \\\\ \n",
    "u_1^1 \\\\ \n",
    "u_0^2 \\\\ \n",
    "u_1^2 \\\\ \n",
    "u_0^3 \\\\ \n",
    "u_1^3 \n",
    "\\end{array}  \\right)\n",
    "=\n",
    "\\underbrace{\n",
    "\\left( \\begin{array}{cccc} \n",
    "1 &   &  & \\\\ \n",
    "  & 1 &  & \\\\ \n",
    "  & 1 &  & \\\\ \n",
    "  &   & 1& \\\\ \n",
    "  &   & 1& \\\\ \n",
    " &   &  &1 \n",
    "\\end{array}  \\right)\n",
    "}_{E}\\cdot \n",
    "\\underbrace{\n",
    "\\left( \\begin{array}{c} \n",
    "u_1 \\\\ \n",
    "u_2 \\\\ \n",
    "u_3 \\\\ \n",
    "u_4 \\\\ \n",
    "\\end{array}  \\right)\n",
    "}_{u_{glob}}\n",
    "$$\n",
    "\n",
    "* $E$ *scatters* information from global to all local elemens\n",
    "* $E^T$ *gathers*/*assembles* (sums) local contributions to global ones"
   ]
  },
  {
   "cell_type": "markdown",
   "metadata": {
    "slideshow": {
     "slide_type": "subslide"
    }
   },
   "source": [
    "**Implementational note:**\n",
    "$E$ and $E^T$ are typically not implemented as matrices but through a simple list per element:"
   ]
  },
  {
   "cell_type": "code",
   "execution_count": null,
   "metadata": {
    "slideshow": {
     "slide_type": "-"
    }
   },
   "outputs": [],
   "source": [
    "mesh = Mesh1D(10)\n",
    "Vh = H1(mesh,order=1)\n",
    "for el in Vh.Elements():\n",
    "    for loc, glob in enumerate(el.dofs):\n",
    "        print(f\"loc.dof {loc:3} -> glob.dof {glob:3}\")"
   ]
  },
  {
   "cell_type": "markdown",
   "metadata": {
    "slideshow": {
     "slide_type": "subslide"
    }
   },
   "source": [
    "Assembling of matrices / vectors:\n",
    "\n",
    "$$\n",
    "f_{i} = f(\\varphi_i) = \\sum_n f_{T_n}(\\varphi_i), \\qquad\n",
    "\\vec{f}_{glob} = E^T \\cdot \\vec{f}_{loc}\n",
    "$$\n",
    "\n",
    "\n",
    "$$\n",
    "A_{ij} = a(\\varphi_i,\\varphi_j) = \\sum_n a_{T_n}(\\varphi_i,\\varphi_j), \\qquad\n",
    "\\vec{A}_{glob} = E^T \\cdot \\vec{A}_{loc} \\cdot E\n",
    "$$"
   ]
  },
  {
   "cell_type": "markdown",
   "metadata": {
    "slideshow": {
     "slide_type": "subslide"
    }
   },
   "source": [
    "**Illustration for $\\vec{A}_{loc}$:**"
   ]
  },
  {
   "cell_type": "code",
   "execution_count": null,
   "metadata": {
    "scrolled": false,
    "slideshow": {
     "slide_type": "-"
    }
   },
   "outputs": [],
   "source": [
    "align(interactive(SpyDG,N=[1,2,3,4,8,16],order=[1,2,3,4]))"
   ]
  },
  {
   "cell_type": "markdown",
   "metadata": {
    "slideshow": {
     "slide_type": "fragment"
    }
   },
   "source": [
    "This matrix will typically not be computed!"
   ]
  },
  {
   "cell_type": "code",
   "execution_count": null,
   "metadata": {
    "scrolled": true,
    "slideshow": {
     "slide_type": "subslide"
    }
   },
   "outputs": [],
   "source": [
    "align(interactive(Spy,N=[1,2,3,4,8,16],order=[1,2,3,4]))\n"
   ]
  },
  {
   "cell_type": "markdown",
   "metadata": {
    "slideshow": {
     "slide_type": "slide"
    }
   },
   "source": [
    "## Construction of higher order expansions"
   ]
  },
  {
   "cell_type": "markdown",
   "metadata": {
    "slideshow": {
     "slide_type": "subslide"
    }
   },
   "source": [
    "### Modal vs. nodal expansions. Simple examples:\n",
    "\n",
    "1. Moment expansion:\n",
    "$$\n",
    "\\phi_l^A(\\hat{x}) = \\hat{x}^l, \\qquad l= 0,..,k\n",
    "$$\n",
    "2. Lagrange expansion:\n",
    "$$\n",
    "\\phi_l^B(\\hat{x}) = \\frac{\\prod_{n=0,n\\not = k}^k (x - x_n)}{\\prod_{n=0,n\\not = k}^k (x_l - x_n)} , \\qquad l= 0,..,k\n",
    "$$\n",
    "3. Legendre expansion:\n",
    "$$\n",
    "\\phi_l^B(\\hat{x}) = L_l(\\hat{x}), \\qquad l= 0,..,k\n",
    "$$\n",
    "with the $L^2((-1,1))$-orthogonal Legendre polynomials, i.e.\n",
    "$$\n",
    "\\int_{-1}^1 L_m(\\hat{x}) L_n(\\hat{x}) ~ d\\hat{x} = \\left( \\frac{2}{2p+1} \\right) \\delta_{mn}\n",
    "$$"
   ]
  },
  {
   "cell_type": "markdown",
   "metadata": {
    "slideshow": {
     "slide_type": "subslide"
    }
   },
   "source": [
    "### Properties of expansions:\n",
    "##### Hierarchical: \n",
    "$$\n",
    "\\{ \\phi_l \\}_{l=0,..,k}  \\subset \\{ \\phi_l \\}_{l=0,..,k+1} ?\n",
    "$$\n",
    "\n",
    "|Moment expansion|Lagrange expansion|Legendre expansion|\n",
    "|-|-|-|\n",
    "|X|-|X|"
   ]
  },
  {
   "cell_type": "markdown",
   "metadata": {
    "slideshow": {
     "slide_type": "subslide"
    }
   },
   "source": [
    "##### Suitability for efficient assembling and solution of linear systems:\n",
    "\n",
    "Example: $(v,u)_{\\Omega} = (f,v)_{\\Omega}$\n",
    "\n",
    "Requires \n",
    "* the computation  of the local mass matrices\n",
    "$$\n",
    "  (M_{loc}^{el})_{ij} = (\\phi_i,\\phi_j)_{\\hat{T}}\n",
    "$$\n",
    "* the assembly to a global mass matrix\n",
    "* the solution of a linear system"
   ]
  },
  {
   "cell_type": "markdown",
   "metadata": {
    "slideshow": {
     "slide_type": "subslide"
    }
   },
   "source": [
    "###### Comparison of different bases and condition number of element matrix:\n",
    "$$\n",
    "\\kappa_2 = \\Vert M_{loc}^{el} \\Vert_2 \\Vert (M_{loc}^{el})^{-1} \\Vert_2  \n",
    "$$"
   ]
  },
  {
   "cell_type": "markdown",
   "metadata": {
    "slideshow": {
     "slide_type": "fragment"
    }
   },
   "source": [
    "![cond](cond.png)"
   ]
  },
  {
   "cell_type": "markdown",
   "metadata": {
    "slideshow": {
     "slide_type": "subslide"
    }
   },
   "source": [
    "#### Global continuity\n",
    "Constraint needed to impose continuity:\n",
    "\n",
    "|expansion|&nbsp;&nbsp;&nbsp;&nbsp;&nbsp;&nbsp;&nbsp;&nbsp;&nbsp;&nbsp;&nbsp;&nbsp;&nbsp;&nbsp;&nbsp;&nbsp;&nbsp;&nbsp;&nbsp;&nbsp;&nbsp;&nbsp;&nbsp;&nbsp;&nbsp;&nbsp;constraint|\n",
    "|-|-|\n",
    "|Moment expansion| $\\sum_l \\vec{u}_l^i = \\sum_l (-1)^l \\vec{u}_l^{i+1}$|\n",
    "|Lagrange expansion| $\\vec{u}_k^i = \\vec{u}_0^{i+1}$|\n",
    "|Legendre expansion| $\\sum_l \\vec{u}_l^i = \\sum_l (-1)^l \\vec{u}_l^{i+1}$|\n"
   ]
  },
  {
   "cell_type": "markdown",
   "metadata": {
    "slideshow": {
     "slide_type": "fragment"
    }
   },
   "source": [
    "**Too involved! Reduce modes/shape functions that have nonzero boundary values!**"
   ]
  },
  {
   "cell_type": "markdown",
   "metadata": {
    "slideshow": {
     "slide_type": "subslide"
    }
   },
   "source": [
    "We want a basis so that $\\phi_l(-1) = \\left\\{ \\begin{array}{cc} 1 & l = 0 \\\\0 & \\text{ otherwise} \\end{array}\\right.$ and $\\phi_l(1) = \\left\\{ \\begin{array}{cc} 1 & l = k \\\\0 & \\text{ otherwise} \\end{array}\\right.$.\n",
    "\n",
    "This is the decomposition into *boundary* and *interior*. \n",
    "\n",
    "The continuity constraint requires only\n",
    "$\\vec{u}_k^i = \\vec{u}_0^{i+1}$ (as in the Lagrange case). "
   ]
  },
  {
   "cell_type": "markdown",
   "metadata": {
    "slideshow": {
     "slide_type": "fragment"
    }
   },
   "source": [
    "Best of both worlds: Basis with\n",
    "* decomposition into boundary and interior functions\n",
    "* well-conditioning, i.e. slow grow of condition number with $k$."
   ]
  },
  {
   "cell_type": "markdown",
   "metadata": {
    "slideshow": {
     "slide_type": "subslide"
    }
   },
   "source": [
    "#### Jacobi polynomials:\n",
    "\n",
    "The Jacobi polynomials are orthogonal polynomials as the Legendre polynomials, but w.r.t. a special inner product:\n",
    "$$\n",
    " (u,v)_{\\alpha,\\beta} := \\int_{-1}^1 (1-\\hat{x})^\\alpha (1+\\hat{x})^{\\beta} u v d\\hat{x}\n",
    "$$\n",
    "\n",
    "The Jacobi polynomials $P_l^{\\alpha,\\beta}(\\hat{x})$ have \n",
    "\n",
    "$$\n",
    " (P_m^{\\alpha,\\beta},P_n^{\\alpha,\\beta})_{\\alpha,\\beta} := \\int_{-1}^1 (1-\\hat{x})^\\alpha (1+\\hat{x})^{\\beta} P_m^{\\alpha,\\beta}(\\hat{x}) P_nm^{\\alpha,\\beta}(\\hat{x}) d\\hat{x} = C(\\alpha,\\beta,m) \\delta_{mn}.\n",
    "$$\n",
    "\n",
    "(special cases: $\\alpha=\\beta=0$: Legendre, $\\alpha=\\beta=-\\frac12$: Chebychev)"
   ]
  },
  {
   "cell_type": "markdown",
   "metadata": {
    "slideshow": {
     "slide_type": "subslide"
    }
   },
   "source": [
    "#### $k$th order modal finite element\n",
    "\n",
    "$$\n",
    "\\phi_l(\\hat{x}) = \n",
    "\\left\\{ \n",
    "\\begin{array}{cl} \n",
    "\\frac{1-\\hat{x}}{2}, & l=0, \\\\\n",
    "\\frac{1-\\hat{x}^2}{4} \\cdot P_{l-1}^{1,1}(\\hat{x}), & 0 < l < k, \\\\\n",
    "\\frac{1+\\hat{x}}{2}, & l=k.\n",
    "\\end{array}\n",
    "\\right.\n",
    "$$\n",
    "\n"
   ]
  },
  {
   "cell_type": "markdown",
   "metadata": {
    "slideshow": {
     "slide_type": "-"
    }
   },
   "source": [
    "![modal](modal.png)"
   ]
  },
  {
   "cell_type": "markdown",
   "metadata": {
    "slideshow": {
     "slide_type": "subslide"
    }
   },
   "source": [
    "Remark: $P_{l-1}^{1,1}(\\hat{x})$ can also be characterized through integrated Legendre polynomials:\n",
    "$$\n",
    "\\frac{1-\\hat{x}}{2} \\frac{1+\\hat{x}}{2} P_{l-1}^{1,1}(\\hat{x}) = -2 k \\int_{-1}^{\\hat{x}} L_l(s) ds\n",
    "$$"
   ]
  },
  {
   "cell_type": "markdown",
   "metadata": {
    "slideshow": {
     "slide_type": "fragment"
    }
   },
   "source": [
    "**Variants for interior shapes**\n",
    "* as before: $\\frac{1-\\hat{x}}{2} \\frac{1+\\hat{x}}{2} P_{l-1}^{1,1}(\\hat{x})$\n",
    "* Legendre-based: $\\frac{1-\\hat{x}}{2} \\frac{1+\\hat{x}}{2} L_{l-1}(\\hat{x})$\n",
    "* higher $\\alpha/\\beta$: $\\frac{1-\\hat{x}}{2} \\frac{1+\\hat{x}}{2} P_{l-1}^{2,2}(\\hat{x})$\n",
    "\n"
   ]
  },
  {
   "cell_type": "markdown",
   "metadata": {
    "slideshow": {
     "slide_type": "subslide"
    }
   },
   "source": [
    "**Sparsity element mass matrix:**\n",
    "![sparseM](sparseM.png)"
   ]
  },
  {
   "cell_type": "markdown",
   "metadata": {
    "slideshow": {
     "slide_type": "subslide"
    }
   },
   "source": [
    "**Sparsity element stiffness matrix:**\n",
    "![sparseA](sparseA.png)"
   ]
  },
  {
   "cell_type": "markdown",
   "metadata": {
    "slideshow": {
     "slide_type": "subslide"
    }
   },
   "source": [
    "#### \"Spectral elements\":\n",
    "* Lagrange elements are not suitable for higher **if equidistant nodes are used**\n",
    "* Choosing the zeros of Gauss-Lobatto polynomials (or Chebychev polynomials) can solve the conditioning issues\n",
    "\n",
    "![spectral](spectral.png)\n"
   ]
  },
  {
   "cell_type": "markdown",
   "metadata": {
    "slideshow": {
     "slide_type": "subslide"
    }
   },
   "source": [
    "#### sparsity\n",
    "\n",
    "element matrices\n",
    "\n",
    "|modal| spectral|\n",
    "|-|-|\n",
    "| sparse | full|"
   ]
  },
  {
   "cell_type": "markdown",
   "metadata": {
    "slideshow": {
     "slide_type": "fragment"
    }
   },
   "source": [
    "**Trick:** Use the nodes of the Lagrange polynomials for quadrature (zeros of orthogonal polynomials):\n",
    "\n",
    "**lumped** element matrices\n",
    "\n",
    "|modal| spectral|\n",
    "|-|-|\n",
    "| sparse | sparse|"
   ]
  },
  {
   "cell_type": "markdown",
   "metadata": {
    "slideshow": {
     "slide_type": "slide"
    }
   },
   "source": [
    "## Quadrature\n",
    "\n",
    "Find nodes $\\hat{x}_i$ and weights $\\omega_i$ (independent of $f$) so that \n",
    "$$\n",
    "I(f) = \\int_{-1}^1 f(\\hat{x}) d\\hat{x} \\approx Q(f) = \\sum_{i=1}^{q} \\omega_i u(\\hat{x}_i)\n",
    "$$\n",
    "holds as good as possible (for smooth $f$)."
   ]
  },
  {
   "cell_type": "markdown",
   "metadata": {
    "slideshow": {
     "slide_type": "subslide"
    }
   },
   "source": [
    "### Quadrature weights\n",
    "Assume the quadrature points are fixed. \n",
    "\n",
    "Then, we can determine the weights so that they maximize the exactness degree of a quadrature rule (order for which integration is still exact):\n",
    "\n",
    "Asking for $I(f) = Q(f)$ for all polynomials up to degree $q-1$ especially requires\n",
    "$I(h_i) = Q(h_i)$ for\n",
    "$$\n",
    "h_i(\\hat{x}) = \\frac{\\prod_{j=1,j\\not = i}^q (x-x_j)}{\\prod_{j=1,j\\not = i}^q (x_i-x_j)} \n",
    "$$\n",
    "the Lagrange polynomials to the nodes $\\hat{x}_i$ of the quadrature rule."
   ]
  },
  {
   "cell_type": "markdown",
   "metadata": {
    "slideshow": {
     "slide_type": "-"
    }
   },
   "source": [
    "One easily sees:\n",
    "$$\\omega_i = Q(h_i) = \\int_{-1}^1 h_i(\\hat{x}) d \\hat{x}$$ "
   ]
  },
  {
   "cell_type": "markdown",
   "metadata": {
    "slideshow": {
     "slide_type": "subslide"
    }
   },
   "source": [
    "### Gaussian(-Legendre) quadrature:\n",
    "For Gaussian quadrature the nodes are chosen carefully, as the zeros of an orthogonal polynomial. let $\\ell_{q}$ be the orthogonal polynomial of order $q$ then, we can decompose any $f \\in \\mathcal{P}^{2q-1}$ as (polynomial division)\n",
    "$$\n",
    "  f = p ~ \\ell_q + r, \\qquad \\text{with } p,r \\in \\mathcal{P}^{q-1}\n",
    "$$"
   ]
  },
  {
   "cell_type": "markdown",
   "metadata": {
    "slideshow": {
     "slide_type": "fragment"
    }
   },
   "source": [
    "* Now ask for $I(p ~ \\ell_q) = Q(p ~ \\ell_q)$ and $I(r) = Q(r)$ separately."
   ]
  },
  {
   "cell_type": "markdown",
   "metadata": {
    "slideshow": {
     "slide_type": "fragment"
    }
   },
   "source": [
    "* For the first condition we note that $I(p ~ \\ell_q)$ due to the orthogonality condition. "
   ]
  },
  {
   "cell_type": "markdown",
   "metadata": {
    "slideshow": {
     "slide_type": "fragment"
    }
   },
   "source": [
    "* To obtain the same for the quadrature we take the nodes $\\hat{x}_i$ as the zeros of $\\ell_q$ so that $Q(p ~ \\ell_q)=0$"
   ]
  },
  {
   "cell_type": "markdown",
   "metadata": {
    "slideshow": {
     "slide_type": "fragment"
    }
   },
   "source": [
    "* Having fixed the nodes, we determine the weights so that $I(r) = Q(r)$ for any $r \\in \\mathcal{P}^{q-1}$ (see last slide)"
   ]
  },
  {
   "cell_type": "markdown",
   "metadata": {
    "slideshow": {
     "slide_type": "fragment"
    }
   },
   "source": [
    "**Remark**: The previous construction is independent of the inner product under consideration."
   ]
  },
  {
   "cell_type": "markdown",
   "metadata": {
    "slideshow": {
     "slide_type": "subslide"
    }
   },
   "source": [
    "### Important variants: Gauss-Radau-Legendre and Gauss-Lobatto-Legendre"
   ]
  },
  {
   "cell_type": "markdown",
   "metadata": {
    "slideshow": {
     "slide_type": "-"
    }
   },
   "source": [
    "* It is often desirable to include one or both end points of an interval. \n",
    "* Then, the orthogonal polynomial $\\ell_{q-1}$ or $\\ell_{q-2}$ is taken as a basis. \n",
    "* Its zeros together with one/both end point(s) determine the nodes.\n",
    "* The weights are determined as before. "
   ]
  },
  {
   "cell_type": "markdown",
   "metadata": {
    "slideshow": {
     "slide_type": "-"
    }
   },
   "source": [
    "**Remark**: \n",
    " * As the quadrature accuracy of Gauss-(xxx)-Legendre rules are sufficiently accurate in the finite element context, one often replaces exact (or more exact) quadrature rules with *compatible* quadrature rules. \n",
    " * If finite element basis and quadrature rule math, the mass matrix becomes **diagonal**."
   ]
  },
  {
   "cell_type": "markdown",
   "metadata": {
    "slideshow": {
     "slide_type": "slide"
    }
   },
   "source": [
    "## Convergence of h- vs. p-type FEM\n",
    "Poisson problem, with equispaced elements of size $h$ and polynomial degree $k$:\n",
    "$$\n",
    " \\Vert u - u_h \\Vert_{H^1} \\leq C h^{\\mu-1} k^{1-\\eta} \\Vert u \\Vert_{H^{\\eta}}\n",
    "$$\n",
    "with $\\mu = \\min(\\eta,k+1)$.\n",
    "\n",
    "If $u$ is smooth, i.e. we can choose $\\eta \\geq k+1$ and have \n",
    "$$\n",
    " \\Vert u - u_h \\Vert_{H^1} \\leq C \\left(\\frac{h}{k}\\right)^{k} \\Vert u \\Vert_{H^{k+1}}.\n",
    "$$\n",
    "\n",
    "which for $h=const$, $k \\to \\infty$ is *exponential convergence*."
   ]
  }
 ],
 "metadata": {
  "celltoolbar": "Slideshow",
  "kernelspec": {
   "display_name": "Python 3",
   "language": "python",
   "name": "python3"
  },
  "language_info": {
   "codemirror_mode": {
    "name": "ipython",
    "version": 3
   },
   "file_extension": ".py",
   "mimetype": "text/x-python",
   "name": "python",
   "nbconvert_exporter": "python",
   "pygments_lexer": "ipython3",
   "version": "3.9.5"
  },
  "toc": {
   "base_numbering": 1,
   "nav_menu": {},
   "number_sections": true,
   "sideBar": true,
   "skip_h1_title": false,
   "title_cell": "Table of Contents",
   "title_sidebar": "Contents",
   "toc_cell": false,
   "toc_position": {},
   "toc_section_display": true,
   "toc_window_display": false
  }
 },
 "nbformat": 4,
 "nbformat_minor": 2
}
