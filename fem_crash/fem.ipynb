{
 "cells": [
  {
   "cell_type": "markdown",
   "metadata": {
    "slideshow": {
     "slide_type": "slide"
    }
   },
   "source": [
    "# A crash course on the Finite Element Method"
   ]
  },
  {
   "cell_type": "markdown",
   "metadata": {
    "slideshow": {
     "slide_type": "notes"
    }
   },
   "source": [
    "This document is meant as a quick start into the FEM. It is meant as supplementary material to a lecture or a seminar where all steps are treated in much more detail and much more carefully. The idea here is to give a picture of the overall working principle of the method itself. For the analysis of the method we will require a more careful treatment."
   ]
  },
  {
   "cell_type": "markdown",
   "metadata": {
    "slideshow": {
     "slide_type": "subslide"
    }
   },
   "source": [
    "## Solving the Poisson equation\n",
    "\n",
    "$\\DeclareMathOperator{\\opdiv}{div}$ $\\DeclareMathOperator{\\setR}{R}$\n",
    "We search for the solution $u$, so that\n",
    "$$\n",
    "-\\Delta u(x) = f(x) \\quad \\forall \\, x \\in \\Omega\n",
    "$$\n",
    "\n",
    "* $f: \\Omega \\to \\mathbb{R}$ is a given function\n",
    "* the domain $\\Omega$ is a subset of $\\mathbb{R}^n$. \n",
    "* The Poisson equation is a model for many physical phenomena:\n",
    "  * f can be a heat source distribution, and u is the temperature\n",
    "  * f can be a electrical charge distribution, and u is the electrostatic potential\n",
    "* To select a unique solution $u$ we have to specify boundary conditions, for example homogeneous Dirichlet boundary conditions\n",
    "$$\n",
    "u(x) = 0 \\quad \\forall \\, x \\in \\partial \\Omega.\n",
    "$$"
   ]
  },
  {
   "cell_type": "markdown",
   "metadata": {
    "slideshow": {
     "slide_type": "subslide"
    }
   },
   "source": [
    "## Weak formulation\n",
    "\n",
    "* The formulation above is called the strong form. \n",
    "* The weak form (to be derived!) is the starting point for the finite element discretization method."
   ]
  },
  {
   "cell_type": "markdown",
   "metadata": {
    "slideshow": {
     "slide_type": "fragment"
    }
   },
   "source": [
    "* We multiply the Poisson equation by a so called test function. It is an essentially arbitrary function (some restriction will be given later as needed):\n",
    "$$\n",
    "- \\Delta u(x) v(x) = f(x) v(x) \\qquad \\forall x \\in \\Omega\n",
    "$$\n"
   ]
  },
  {
   "cell_type": "markdown",
   "metadata": {
    "slideshow": {
     "slide_type": "fragment"
    }
   },
   "source": [
    " * We integrate over the domain $\\Omega$:\n",
    "\n",
    "$$\n",
    "- \\int_\\Omega \\Delta u(x) v(x) dx = \\int_\\Omega f(x) v(x) dx\n",
    "$$"
   ]
  },
  {
   "cell_type": "markdown",
   "metadata": {
    "slideshow": {
     "slide_type": "subslide"
    }
   },
   "source": [
    "* From Gauss' Theorem applied to the vector field $\\nabla u v$ we obtain\n",
    "$$\n",
    "\\int_{\\partial \\Omega} n \\nabla u v = \\int_\\Omega \\operatorname{div} (\\nabla u v) \n",
    "= \\int_{\\Omega} \\Delta u v + \\nabla u \\nabla v\n",
    "$$"
   ]
  },
  {
   "cell_type": "markdown",
   "metadata": {
    "slideshow": {
     "slide_type": "fragment"
    }
   },
   "source": [
    "This allows to rewrite the left hand side such that (for suff. smooth fcts.)\n",
    "$$\n",
    "\\int_\\Omega \\nabla u \\nabla v - \\int_{\\partial \\Omega} \\frac{\\partial u}{\\partial n} v = \\int_\\Omega f v\n",
    "$$"
   ]
  },
  {
   "cell_type": "markdown",
   "metadata": {
    "slideshow": {
     "slide_type": "fragment"
    }
   },
   "source": [
    "In the case of Dirichlet boundary conditions we allow only test-functions $v$ such that $v(x) = 0$ on the boundary $\\partial \\Omega$."
   ]
  },
  {
   "cell_type": "markdown",
   "metadata": {
    "slideshow": {
     "slide_type": "subslide"
    }
   },
   "source": [
    "We have derived the weak form: find $u$ such that $u = 0$ on $\\partial \\Omega$ and \n",
    "\n",
    "$$\n",
    "\\int_\\Omega \\nabla u \\nabla v = \\int_\\Omega f v \n",
    "$$\n",
    "\n",
    "holds true for all test-functions $v$ with $v = 0$ on $\\partial \\Omega$. "
   ]
  },
  {
   "cell_type": "markdown",
   "metadata": {
    "slideshow": {
     "slide_type": "fragment"
    }
   },
   "source": [
    "* Note that the weak formulation needs only first order derivatives of $u$ and $v$, in contrast to the strong form which requires second order derivatives of $u$."
   ]
  },
  {
   "cell_type": "markdown",
   "metadata": {},
   "source": [
    "We want from an equation for each $x \\in \\Omega$ to an equation for all $v \\in ...$?"
   ]
  },
  {
   "cell_type": "markdown",
   "metadata": {
    "slideshow": {
     "slide_type": "fragment"
    }
   },
   "source": [
    "What is the right regularity to ask for $u$ and $v$?"
   ]
  },
  {
   "cell_type": "markdown",
   "metadata": {
    "slideshow": {
     "slide_type": "subslide"
    }
   },
   "source": [
    "## The Sobolev space $H^1$, linear and bilinear forms\n",
    "\n",
    "The proper space to search for the solution is the so called Sobolev space \n",
    "\n",
    "$$\n",
    "H^1(\\Omega) := \\{ u \\in L_2(\\Omega) : \\nabla u \\in L_2(\\Omega) \\}\n",
    "$$\n",
    "\n",
    "The super-script $1$ indicates that we want to have first order derivatives in $L_2$. We just note that the derivative is understood in weak sense, which for instance is well defined for functions with kinks. The vector space $H^1$  comes with the norm\n",
    "\n",
    "$$\n",
    "\\| u \\|_{H^1}^2 := \\| u \\|_{L_2}^2 + \\| \\nabla u \\|_{L_2}^2\n",
    "$$\n",
    "and the inner product\n",
    "$$\n",
    "(u,v)_{H^1} = (u,v)_{L_2} + (\\nabla u, \\nabla v)_{L_2}\n",
    "$$\n",
    "\n",
    "It is a complete space with an inner product, i.e. a Hilbert space."
   ]
  },
  {
   "cell_type": "markdown",
   "metadata": {
    "slideshow": {
     "slide_type": "subslide"
    }
   },
   "source": [
    "It does not make sense to take boundary values of $L_2$-functions. \n",
    "\n",
    "Trace theorem says: Boundary values of $H^1$ functions are well defined:\n",
    "\n",
    "$$\n",
    "u_{|\\partial \\Omega} \\in L_2(\\partial \\Omega) \\quad \\text{ for } u \\in H^1(\\Omega)\n",
    "$$\n",
    "\n",
    "Thus it makes sense to define the sub-space satisfying homogeneous Dirichlet boundary conditions:\n",
    "\n",
    "$$\n",
    "H_0^1(\\Omega) = \\{ u \\in H^1(\\Omega) : u_{|\\partial \\Omega} = 0 \\} \n",
    "$$"
   ]
  },
  {
   "cell_type": "markdown",
   "metadata": {
    "slideshow": {
     "slide_type": "subslide"
    }
   },
   "source": [
    "Let us consider the term on the left hand side of the variational formulation:\n",
    "\n",
    "$$\n",
    "A(u,v) := \\int_{\\Omega} \\nabla u \\nabla v\n",
    "$$"
   ]
  },
  {
   "cell_type": "markdown",
   "metadata": {
    "slideshow": {
     "slide_type": "subslide"
    }
   },
   "source": [
    "* Given $u$ and $v$ from the Sobolev space, we can compute a number $\\int \\nabla u \\nabla v$\n",
    "* $A(.,.)$ is a function mapping from two elements from $H^1(\\Omega)$ into $\\mathbb{R}$:\n",
    "\n",
    "$$\n",
    "A(.,.) : H^1(\\Omega) \\times H^1(\\Omega) \\rightarrow \\mathbb{R}\n",
    "$$\n",
    "\n",
    "The function $A(.,.)$ is linear in both arguments, and thus we call it a bilinear form."
   ]
  },
  {
   "cell_type": "markdown",
   "metadata": {
    "slideshow": {
     "slide_type": "subslide"
    }
   },
   "source": [
    "Similarly, the right hand side\n",
    "\n",
    "$$\n",
    "f(v) := \\int_{\\Omega} f v\n",
    "$$\n",
    "\n",
    "is a linear function\n",
    "\n",
    "$$\n",
    "f(\\cdot) : H^1(\\Omega) \\rightarrow \\mathbb{R},\n",
    "$$\n",
    "\n",
    "which we call a linear form."
   ]
  },
  {
   "cell_type": "markdown",
   "metadata": {
    "slideshow": {
     "slide_type": "subslide"
    }
   },
   "source": [
    "Having these objects defined, our weak formulation reads now \n",
    "\n",
    "$$\n",
    "\\text{find} \\, u \\in H_0^1(\\Omega) : \\quad A(u,v) = f(v) \\quad \\forall \\, v \\in H_0^1(\\Omega)\n",
    "$$\n",
    "\n",
    "This abstract formalism of Hilbert spaces, bilinear and linear forms apply for a large class of (elliptic, but not only) partial differential equations."
   ]
  },
  {
   "cell_type": "markdown",
   "metadata": {
    "slideshow": {
     "slide_type": "subslide"
    }
   },
   "source": [
    "## The Finite Element Method\n",
    "We cannot compute the solution in an infinite dimensional Hilbert space.\n",
    "But, we can define a finite dimensional sub-space (Galerkin method):\n",
    "$$\n",
    "V_h \\subset H^1_0\n",
    "$$\n",
    "\n",
    "and restrict the weak formulation to $V_h$:\n",
    "\n",
    "$$\n",
    "\\text{find} \\, u_h \\in V_h : \\quad A(u_h,v_h) = f(v_h) \\quad \\forall \\, v_h \\in V_h\n",
    "$$\n",
    "\n",
    "The finite element solution $u_h$ is the *Galerkin approximation* to the true solution $u$. \n",
    "\n",
    "One can analyze the discretization error $\\| u - u_h \\|_{H^1}$ and in the case of the Poisson problem bound it by constant times the best approximation in $V_h$ (in the $H^1$ norm): \n",
    "\n",
    "$$\\| u - u_h \\|_{H^1} \\leq C \\inf_{v_h \\in V_h} \\| u - v_h \\|_{H^1}$$"
   ]
  },
  {
   "cell_type": "markdown",
   "metadata": {
    "slideshow": {
     "slide_type": "subslide"
    }
   },
   "source": [
    "For computing the solution $u_h$ we have to choose a basis for the function space $V_h$, where $N = \\operatorname{dim} V_h$\n",
    "\n",
    "$$\n",
    "V_h = \\operatorname{span} \\{ p_1(x), \\ldots p_N(x) \\}\n",
    "$$\n",
    "\n",
    "By means of this basis we can expand the solution $u_h$ as\n",
    "\n",
    "$$\n",
    "u_h(x) = \\sum_{i=1}^N u_i p_i(x)\n",
    "$$\n",
    "\n",
    "$u_i$ are the *degrees of freedoms* in the FE approximation."
   ]
  },
  {
   "cell_type": "markdown",
   "metadata": {
    "slideshow": {
     "slide_type": "subslide"
    }
   },
   "source": [
    "The coefficients $u_i$ are combined to the coefficient vector $u = (u_1, \\ldots, u_N) \\in \\mathbb{R}^N$\n",
    "\n",
    "Instead of testing with all test-functions from $V_h$, by linearity of $A(\\cdot,\\cdot)$ and $f(\\cdot)$, it is enough to test only with the basis functions $p_j(x), j = 1, \\ldots, N$\n",
    "\n",
    "Thus, the finite element probem can be rewritten as\n",
    "\n",
    "$$\n",
    "\\text{find } u \\in \\mathbb{R}^N : \\quad A(\\sum_i u_i p_i(x), p_j(x)) = f(p_j(x)) \\qquad \\forall \\, j = 1, \\ldots N\n",
    "$$\n"
   ]
  },
  {
   "cell_type": "markdown",
   "metadata": {
    "slideshow": {
     "slide_type": "subslide"
    }
   },
   "source": [
    "By linearity of $A(\\cdot,\\cdot)$ in the first argument we can write\n",
    "\n",
    "$$\n",
    "\\text{find } u \\in \\mathbb{R}^N : \\quad \\sum_{i=1}^N A(p_i, p_j) \\, u_i = f(p_j) \\qquad \\forall \\, j = 1, \\ldots N\n",
    "$$\n",
    "\n",
    "Since the basis functions are known, we can compute the matrix $A \\in \\mathbb{R}^{N\\times N}$ with entries\n",
    "\n",
    "$$\n",
    "A_{j,i} = A(p_j,p_i) = \\int_\\Omega \\nabla p_j(x) \\cdot \\nabla p_i(x)\n",
    "$$\n",
    "\n",
    "\n",
    "and the vector $f \\in \\mathbb{R}^N$ as\n",
    "\n",
    "$$\n",
    "f_j = f(p_j) = \\int_\\Omega f(x) p_j(x)\n",
    "$$"
   ]
  },
  {
   "cell_type": "markdown",
   "metadata": {
    "slideshow": {
     "slide_type": "subslide"
    }
   },
   "source": [
    "Solving the finite element problem results in the linear system of equations for the coefficient vector $u = (u_1, \\ldots, u_N)$:\n",
    "\n",
    "$$\n",
    "\\text{find } u \\in \\mathbb{R}^N : \\quad A u = f\n",
    "$$\n",
    "\n",
    "By means of the coefficient vector, we have a representation of the finite element solution \n",
    "\n",
    "$$\n",
    "u_h(x) = \\sum u_i p_i(x)\n",
    "$$"
   ]
  },
  {
   "cell_type": "markdown",
   "metadata": {
    "slideshow": {
     "slide_type": "slide"
    }
   },
   "source": [
    "## Example 1: 1D FEM for the Poisson problem\n",
    "* We search for the solution $u$, so that\n",
    "\\begin{align*}\n",
    "   - \\partial_x^2 u(x) & = f(x) \\quad \\text{ in } (0,1) , \\\\\n",
    "                  u(s) & = 0 \\quad \\text{ for } s \\in \\{0,1\\}.\n",
    "\\end{align*}\n",
    "\n",
    "* Weak form: find $u \\in H^1_0((0,1))$ such that\n",
    "$$\n",
    "\\int_0^1 \\partial_x u ~~ \\partial_x v = \\int_0^1 f v \n",
    "$$\n",
    "holds true for all test-functions $v \\in H^1_0((0,1))$. \n"
   ]
  },
  {
   "cell_type": "markdown",
   "metadata": {
    "slideshow": {
     "slide_type": "subslide"
    }
   },
   "source": [
    "* What is the finite element space $V_h$?"
   ]
  },
  {
   "cell_type": "code",
   "execution_count": null,
   "metadata": {
    "slideshow": {
     "slide_type": "fragment"
    }
   },
   "outputs": [],
   "source": [
    "from ipywidgets import interact, interactive_output, interact_manual, interactive, FloatSlider, IntSlider, Dropdown\n",
    "from IPython.display import display\n",
    "from math import sin, cos, exp, log, sqrt\n",
    "from ngsolve import * \n",
    "from mesh1d import *\n",
    "from draw1d import * \n",
    "from specials import *"
   ]
  },
  {
   "cell_type": "code",
   "execution_count": null,
   "metadata": {
    "scrolled": true,
    "slideshow": {
     "slide_type": "-"
    }
   },
   "outputs": [],
   "source": [
    "align(interactive(DrawBasisFunction, N=[4,6,8], i=IntSlider(min=0, max=41, step=1, continuous_update=False),\n",
    "                  order=[1,2,3]))"
   ]
  },
  {
   "cell_type": "code",
   "execution_count": null,
   "metadata": {
    "scrolled": true,
    "slideshow": {
     "slide_type": "subslide"
    }
   },
   "outputs": [],
   "source": [
    "align(interactive(ApproximateWithFESpace, \n",
    "                  N=[4,8,16,32,64], \n",
    "                  order=[1,2,3], \n",
    "                  f=[\"sin(3·pi·x)\",\n",
    "                     \"sin(3·pi·x)·cos(5·pi·x)\"]))"
   ]
  },
  {
   "cell_type": "markdown",
   "metadata": {
    "slideshow": {
     "slide_type": "subslide"
    }
   },
   "source": [
    "* To solve for the unknown coefficient vector we need to compute\n",
    "$$\n",
    "A_{j,i} = A(p_j,p_i) = \\int_0^1 \\partial_x p_j ~ \\partial_x p_i\n",
    "$$\n",
    "and the vector $f \\in \\setR^N$ as\n",
    "$$\n",
    "f_j = f(p_j) = \\int_\\Omega f(x) p_j(x)\n",
    "$$"
   ]
  },
  {
   "cell_type": "code",
   "execution_count": null,
   "metadata": {
    "scrolled": false,
    "slideshow": {
     "slide_type": "subslide"
    }
   },
   "outputs": [],
   "source": [
    "ComputeMatrixEntry(N=4,order=2,k=1)"
   ]
  },
  {
   "cell_type": "markdown",
   "metadata": {
    "slideshow": {
     "slide_type": "subslide"
    }
   },
   "source": [
    "* Most basis function have disjoint support, i.e. $A(p_i,p_j)=0$ for most pairings $(i,j)$:"
   ]
  },
  {
   "cell_type": "code",
   "execution_count": null,
   "metadata": {
    "scrolled": true,
    "slideshow": {
     "slide_type": "-"
    }
   },
   "outputs": [],
   "source": [
    "align(interactive(Spy,N=[1,2,3,4,8,16],order=[1,2,3,4]))"
   ]
  },
  {
   "cell_type": "markdown",
   "metadata": {
    "slideshow": {
     "slide_type": "slide"
    }
   },
   "source": [
    "## Example 2: FEM for Poisson in 2D with NGSolve"
   ]
  },
  {
   "cell_type": "code",
   "execution_count": null,
   "metadata": {
    "slideshow": {
     "slide_type": "-"
    }
   },
   "outputs": [],
   "source": [
    "# load Netgen/NGSolve and start the gui\n",
    "from ngsolve import *\n",
    "from ngsolve.webgui import *"
   ]
  },
  {
   "cell_type": "markdown",
   "metadata": {
    "slideshow": {
     "slide_type": "subslide"
    }
   },
   "source": [
    "* In 2D/3D we require a mesh for our domain $\\Omega$:"
   ]
  },
  {
   "cell_type": "code",
   "execution_count": null,
   "metadata": {
    "slideshow": {
     "slide_type": "-"
    }
   },
   "outputs": [],
   "source": [
    "# unit_square is the predefined domain (0,1)^2\n",
    "from netgen.geom2d import unit_square\n",
    "mesh = Mesh(unit_square.GenerateMesh(maxh=0.2))\n",
    "Draw (mesh)"
   ]
  },
  {
   "cell_type": "markdown",
   "metadata": {
    "slideshow": {
     "slide_type": "subslide"
    }
   },
   "source": [
    "* On that mesh we can define the finite element space"
   ]
  },
  {
   "cell_type": "code",
   "execution_count": null,
   "metadata": {
    "scrolled": true,
    "slideshow": {
     "slide_type": "-"
    }
   },
   "outputs": [],
   "source": [
    "# define the finite element space\n",
    "fes = H1(mesh, order=3, dirichlet=\".*\")\n",
    "gfu = GridFunction(fes)\n",
    "DrawOneBasisFunction(gfu,13)"
   ]
  },
  {
   "cell_type": "code",
   "execution_count": null,
   "metadata": {
    "slideshow": {
     "slide_type": "subslide"
    }
   },
   "outputs": [],
   "source": [
    "u,v = fes.TnT()\n",
    "# solution vector\n",
    "gfu = GridFunction(fes)"
   ]
  },
  {
   "cell_type": "markdown",
   "metadata": {
    "slideshow": {
     "slide_type": "subslide"
    }
   },
   "source": [
    "* Setup of matrix and vector"
   ]
  },
  {
   "cell_type": "code",
   "execution_count": null,
   "metadata": {
    "slideshow": {
     "slide_type": "-"
    }
   },
   "outputs": [],
   "source": [
    "# specify the forms by means of trial and test-functions:\n",
    "a = BilinearForm(fes)\n",
    "f = LinearForm(fes)\n",
    "a += grad(u)*grad(v) * dx\n",
    "f += 10*x*y*v * dx"
   ]
  },
  {
   "cell_type": "code",
   "execution_count": null,
   "metadata": {
    "slideshow": {
     "slide_type": "-"
    }
   },
   "outputs": [],
   "source": [
    "# compute the matrix and right hand side vector\n",
    "a.Assemble()\n",
    "f.Assemble()"
   ]
  },
  {
   "cell_type": "markdown",
   "metadata": {
    "slideshow": {
     "slide_type": "subslide"
    }
   },
   "source": [
    "* sparsity pattern of the matrix:"
   ]
  },
  {
   "cell_type": "code",
   "execution_count": null,
   "metadata": {
    "slideshow": {
     "slide_type": "-"
    }
   },
   "outputs": [],
   "source": [
    "rows,cols,vals = a.mat.COO(); A = sp.csr_matrix((vals,(rows,cols)))\n",
    "plt.figure(figsize=(7,7))\n",
    "plt.spy(A); plt.show()"
   ]
  },
  {
   "cell_type": "markdown",
   "metadata": {
    "slideshow": {
     "slide_type": "subslide"
    }
   },
   "source": [
    "* Solution of linear system (direct solver)"
   ]
  },
  {
   "cell_type": "code",
   "execution_count": null,
   "metadata": {
    "slideshow": {
     "slide_type": "-"
    }
   },
   "outputs": [],
   "source": [
    "# solve the linear system\n",
    "gfu.vec.data = a.mat.Inverse(freedofs=fes.FreeDofs()) * f.vec\n",
    "Draw (gfu)\n",
    "#print(gfu.vec.FV().NumPy())"
   ]
  },
  {
   "cell_type": "markdown",
   "metadata": {
    "slideshow": {
     "slide_type": "subslide"
    }
   },
   "source": [
    "* Solution of linear system (iterative solver with Jacobi preconditioner)"
   ]
  },
  {
   "cell_type": "code",
   "execution_count": null,
   "metadata": {
    "scrolled": true,
    "slideshow": {
     "slide_type": "-"
    }
   },
   "outputs": [],
   "source": [
    "#c = Preconditioner(a, \"bddc\")\n",
    "a.Assemble()\n",
    "c = a.mat.CreateSmoother(fes.FreeDofs())\n",
    "from ngsolve.solvers import CG\n",
    "\n",
    "CG (mat=a.mat, pre=c, rhs=f.vec, sol=gfu.vec, printrates=True, maxsteps=200)\n",
    "Redraw()"
   ]
  },
  {
   "cell_type": "markdown",
   "metadata": {
    "slideshow": {
     "slide_type": "subslide"
    }
   },
   "source": [
    "* Solution of linear system (iterative solver with Jacobi preconditioner)"
   ]
  },
  {
   "cell_type": "code",
   "execution_count": null,
   "metadata": {
    "slideshow": {
     "slide_type": "-"
    }
   },
   "outputs": [],
   "source": [
    "c = Preconditioner(a, \"bddc\")\n",
    "a.Assemble()\n",
    "CG (mat=a.mat, pre=c.mat, rhs=f.vec, sol=gfu.vec, printrates=True, maxsteps=200)\n",
    "Redraw()"
   ]
  },
  {
   "cell_type": "code",
   "execution_count": null,
   "metadata": {},
   "outputs": [],
   "source": []
  }
 ],
 "metadata": {
  "kernelspec": {
   "display_name": "Python 3",
   "language": "python",
   "name": "python3"
  },
  "language_info": {
   "codemirror_mode": {
    "name": "ipython",
    "version": 3
   },
   "file_extension": ".py",
   "mimetype": "text/x-python",
   "name": "python",
   "nbconvert_exporter": "python",
   "pygments_lexer": "ipython3",
   "version": "3.9.3"
  },
  "toc": {
   "base_numbering": 1,
   "nav_menu": {},
   "number_sections": true,
   "sideBar": true,
   "skip_h1_title": false,
   "title_cell": "Table of Contents",
   "title_sidebar": "Contents",
   "toc_cell": false,
   "toc_position": {},
   "toc_section_display": true,
   "toc_window_display": false
  }
 },
 "nbformat": 4,
 "nbformat_minor": 2
}
